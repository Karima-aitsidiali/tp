{
  "cells": [
    {
      "cell_type": "markdown",
      "metadata": {
        "id": "_HUiLzn60xua"
      },
      "source": [
        "# **Multiclass Neural Network for Tifinagh Character Recognition**\n",
        "\n",
        "This notebook implements a multilayer perceptron (MLP) to classify handwritten Tifinagh characters from the AMHCD dataset (28,182 images, 33 classes). It includes data preprocessing, model training, hyperparameter tuning, cross-validation, and evaluation, with bonus features: L2 regularization, Adam optimizer, K-fold cross-validation, and data augmentation."
      ]
    },
    {
      "cell_type": "markdown",
      "metadata": {
        "id": "J8olLt6R07Ig"
      },
      "source": [
        "## **1.Imports and Setup**\n",
        "Import required libraries and set random seed for reproducibility."
      ]
    },
    {
      "cell_type": "code",
      "execution_count": 1,
      "metadata": {
        "id": "P1zZDz43JX4J",
        "colab": {
          "base_uri": "https://localhost:8080/"
        },
        "outputId": "446ccdde-e695-4fed-98cf-66890b51d4bb"
      },
      "outputs": [
        {
          "output_type": "stream",
          "name": "stdout",
          "text": [
            "Collecting opencv-python\n",
            "  Downloading opencv_python-4.11.0.86-cp37-abi3-manylinux_2_17_x86_64.manylinux2014_x86_64.whl.metadata (20 kB)\n",
            "Requirement already satisfied: numpy>=1.21.2 in /usr/local/lib/python3.11/dist-packages (from opencv-python) (2.0.2)\n",
            "Downloading opencv_python-4.11.0.86-cp37-abi3-manylinux_2_17_x86_64.manylinux2014_x86_64.whl (63.0 MB)\n",
            "\u001b[2K   \u001b[90m━━━━━━━━━━━━━━━━━━━━━━━━━━━━━━━━━━━━━━━━\u001b[0m \u001b[32m63.0/63.0 MB\u001b[0m \u001b[31m20.5 MB/s\u001b[0m eta \u001b[36m0:00:00\u001b[0m\n",
            "\u001b[?25hInstalling collected packages: opencv-python\n",
            "Successfully installed opencv-python-4.11.0.86\n"
          ]
        }
      ],
      "source": [
        "!pip install opencv-python"
      ]
    },
    {
      "cell_type": "code",
      "execution_count": 2,
      "metadata": {
        "id": "k61HG7FYXr5P"
      },
      "outputs": [],
      "source": [
        "import os\n",
        "import cv2\n",
        "import sys\n",
        "import time\n",
        "import json\n",
        "import shutil\n",
        "import random\n",
        "import zipfile\n",
        "import itertools\n",
        "import kagglehub\n",
        "import numpy as np\n",
        "import pandas as pd\n",
        "import seaborn as sns\n",
        "from PIL import Image\n",
        "from tqdm import trange, tqdm\n",
        "from google.colab import files\n",
        "import matplotlib.pyplot as plt\n",
        "from sklearn.model_selection import train_test_split, KFold\n",
        "from sklearn.preprocessing import LabelEncoder, OneHotEncoder\n",
        "from sklearn.metrics import confusion_matrix, classification_report\n",
        "\n",
        "# Set random seed for reproducibility\n",
        "np.random.seed(42)"
      ]
    },
    {
      "cell_type": "markdown",
      "metadata": {
        "id": "WJmqWYzD1AyY"
      },
      "source": [
        "## **2.Activation Functions**\n",
        "Define ReLU and Softmax activations for the MLP."
      ]
    },
    {
      "cell_type": "code",
      "execution_count": 3,
      "metadata": {
        "id": "E28ZcOFF1Y1Q"
      },
      "outputs": [],
      "source": [
        "# Activation Functions\n",
        "def relu(x):\n",
        "    \"\"\"ReLU activation: max(0, x)\"\"\"\n",
        "    assert isinstance(x, np.ndarray), \"Input to ReLU must be a numpy array\"\n",
        "    result = np.maximum(0, x)\n",
        "    assert np.all(result >= 0), \"ReLU output must be non-negative\"\n",
        "    return result\n",
        "\n",
        "def relu_derivative(x):\n",
        "    \"\"\"Derivative of ReLU: 1 if x > 0, else 0\"\"\"\n",
        "    assert isinstance(x, np.ndarray), \"Input to ReLU derivative must be a numpy array\"\n",
        "    result = np.where(x > 0, 1, 0)\n",
        "    assert np.all((result == 0) | (result == 1)), \"ReLU derivative must be 0 or 1\"\n",
        "    return result\n",
        "\n",
        "def softmax(x):\n",
        "    \"\"\"Softmax activation: exp(x) / sum(exp(x))\"\"\"\n",
        "    assert isinstance(x, np.ndarray), \"Input to softmax must be a numpy array\"\n",
        "    exp_x = np.exp(x - np.max(x, axis=1, keepdims=True))\n",
        "    result = exp_x / np.sum(exp_x, axis=1, keepdims=True)\n",
        "    assert np.all((result >= 0) & (result <= 1)), \"Softmax output must be in [0,1]\"\n",
        "    assert np.allclose(np.sum(result, axis=1), 1), \"Softmax output must sum to 1\"\n",
        "    return result\n"
      ]
    },
    {
      "cell_type": "markdown",
      "metadata": {
        "id": "WHciEg601Nza"
      },
      "source": [
        "## **3.Data Augmentation and Preprocessing**\n",
        "Functions for augmenting images (rotation, translation) and preprocessing (grayscale, resize, normalize)."
      ]
    },
    {
      "cell_type": "code",
      "execution_count": 4,
      "metadata": {
        "id": "UCvnazfp1kUK"
      },
      "outputs": [],
      "source": [
        "# Data Augmentation\n",
        "def augment_image(image, max_rotation=10, max_translation=3):\n",
        "    \"\"\"Apply random rotation and translation to a 32x32 grayscale image\"\"\"\n",
        "    assert image.shape == (32, 32), \"Image must be 32x32\"\n",
        "    angle = np.random.uniform(-max_rotation, max_rotation)\n",
        "    M = cv2.getRotationMatrix2D((16, 16), angle, 1.0)\n",
        "    rotated = cv2.warpAffine(image, M, (32, 32), borderMode=cv2.BORDER_REPLICATE)\n",
        "    tx = np.random.uniform(-max_translation, max_translation)\n",
        "    ty = np.random.uniform(-max_translation, max_translation)\n",
        "    M = np.float32([[1, 0, tx], [0, 1, ty]])\n",
        "    translated = cv2.warpAffine(rotated, M, (32, 32), borderMode=cv2.BORDER_REPLICATE)\n",
        "    return translated.flatten()\n",
        "\n",
        "# Image Preprocessing\n",
        "def load_and_preprocess_image(image_path, data_dir, target_size=(32, 32)):\n",
        "    \"\"\"Load and preprocess image: grayscale, resize, normalize\"\"\"\n",
        "    full_path = os.path.join(data_dir, image_path)\n",
        "    assert os.path.exists(full_path), f\"Image not found: {full_path}\"\n",
        "    img = cv2.imread(full_path, cv2.IMREAD_GRAYSCALE)\n",
        "    assert img is not None, f\"Failed to load image: {full_path}\"\n",
        "    img = cv2.resize(img, target_size)\n",
        "    img = img.astype(np.float32) / 255.0\n",
        "    return img.flatten()\n"
      ]
    },
    {
      "cell_type": "markdown",
      "metadata": {
        "id": "dm339t3M1YSw"
      },
      "source": [
        "## **4.Visualization**\n",
        "Function to display sample images per Tifinagh class."
      ]
    },
    {
      "cell_type": "code",
      "execution_count": 5,
      "metadata": {
        "id": "nA2ZVf9E68cI"
      },
      "outputs": [],
      "source": [
        "# Visualization\n",
        "def display_sample_images_from_paths(labels_df, data_dir, path_column='image_path', label_column='label',\n",
        "                                     num_samples=33, samples_per_row=11, random_state=83):\n",
        "    \"\"\"Display a grid of sample grayscale images, one per class\"\"\"\n",
        "    assert path_column in labels_df.columns, f\"Missing column: {path_column}\"\n",
        "    assert label_column in labels_df.columns, f\"Missing column: {label_column}\"\n",
        "\n",
        "    rng = np.random.default_rng(random_state)\n",
        "    unique_labels = labels_df[label_column].unique()\n",
        "    num_samples = min(num_samples, len(unique_labels))\n",
        "    selected_indices = [rng.choice(labels_df[labels_df[label_column] == lbl].index)\n",
        "                        for lbl in rng.choice(unique_labels, size=num_samples, replace=False)]\n",
        "    selected_df = labels_df.loc[selected_indices].sort_values(by=label_column)\n",
        "\n",
        "    num_rows = (num_samples + samples_per_row - 1) // samples_per_row\n",
        "    fig, axes = plt.subplots(num_rows, samples_per_row, figsize=(samples_per_row * 2, num_rows * 3))\n",
        "    axes = axes.ravel()\n",
        "\n",
        "    for i, (path, label) in enumerate(zip(selected_df[path_column], selected_df[label_column])):\n",
        "        try:\n",
        "            img = Image.open(os.path.join(data_dir, path))\n",
        "            axes[i].imshow(img, cmap='gray')\n",
        "            axes[i].set_title(f\"Label: {label}\", fontsize=17)\n",
        "            axes[i].axis('off')\n",
        "        except Exception as e:\n",
        "            print(f\"Error loading {path}: {e}\")\n",
        "            axes[i].set_title(\"Error\")\n",
        "            axes[i].axis('off')\n",
        "\n",
        "    for ax in axes[num_samples:]:\n",
        "        ax.axis('off')\n",
        "\n",
        "    plt.tight_layout()\n",
        "    return fig"
      ]
    },
    {
      "cell_type": "markdown",
      "metadata": {
        "id": "qOvgoYDC1o07"
      },
      "source": [
        "## **5.Neural Network Implementation**\n",
        "MLP class with forward propagation, backpropagation, and training logic."
      ]
    },
    {
      "cell_type": "code",
      "execution_count": 6,
      "metadata": {
        "id": "GztogE3-6tZ8"
      },
      "outputs": [],
      "source": [
        "# Neural Network Class\n",
        "class MulticlassNeuralNetwork:\n",
        "    def __init__(self, layer_sizes, learning_rate=0.01, l2_lambda=0.01, optimizer='sgd', beta1=0.9, beta2=0.999, epsilon=1e-8):\n",
        "        \"\"\"Initialize MLP with specified architecture and parameters\"\"\"\n",
        "        assert len(layer_sizes) >= 2, \"At least 2 layers required\"\n",
        "        assert all(size > 0 for size in layer_sizes), \"Layer sizes must be positive\"\n",
        "        self.layer_sizes = layer_sizes\n",
        "        self.learning_rate = learning_rate\n",
        "        self.l2_lambda = l2_lambda\n",
        "        self.optimizer = optimizer.lower()\n",
        "        self.beta1, self.beta2, self.epsilon = beta1, beta2, epsilon\n",
        "        self.weights = []\n",
        "        self.biases = []\n",
        "        self.m_weights, self.v_weights = [], []\n",
        "        self.m_biases, self.v_biases = [], []\n",
        "        self.t = 0\n",
        "\n",
        "        # He initialization\n",
        "        np.random.seed(42)\n",
        "        for i in range(len(layer_sizes) - 1):\n",
        "            w = np.random.randn(layer_sizes[i], layer_sizes[i + 1]) * np.sqrt(2 / layer_sizes[i])\n",
        "            b = np.zeros((1, layer_sizes[i + 1]))\n",
        "            self.weights.append(w)\n",
        "            self.biases.append(b)\n",
        "            self.m_weights.append(np.zeros_like(w))\n",
        "            self.v_weights.append(np.zeros_like(w))\n",
        "            self.m_biases.append(np.zeros_like(b))\n",
        "            self.v_biases.append(np.zeros_like(b))\n",
        "\n",
        "    def forward(self, X):\n",
        "        \"\"\"Forward propagation\"\"\"\n",
        "        self.z_values, self.activations = [], [X]\n",
        "        for i in range(len(self.weights) - 1):\n",
        "            Z = np.dot(self.activations[-1], self.weights[i]) + self.biases[i]\n",
        "            self.z_values.append(Z)\n",
        "            self.activations.append(relu(Z))\n",
        "        Z = np.dot(self.activations[-1], self.weights[-1]) + self.biases[-1]\n",
        "        self.z_values.append(Z)\n",
        "        output = softmax(Z)\n",
        "        self.activations.append(output)\n",
        "        return output\n",
        "\n",
        "    def compute_loss(self, y_true, y_pred):\n",
        "        \"\"\"Cross-entropy loss with L2 regularization\"\"\"\n",
        "        m = y_true.shape[0]\n",
        "        y_pred_clipped = np.clip(y_pred, 1e-15, 1 - 1e-15)\n",
        "        cross_entropy = -np.sum(y_true * np.log(y_pred_clipped)) / m\n",
        "        l2_term = (self.l2_lambda / (2 * m)) * sum(np.sum(np.square(W)) for W in self.weights)\n",
        "        total_loss = cross_entropy + l2_term\n",
        "        assert not np.isnan(total_loss), \"Loss is NaN\"\n",
        "        return total_loss\n",
        "\n",
        "    def compute_accuracy(self, y_true, y_pred):\n",
        "        \"\"\"Compute accuracy\"\"\"\n",
        "        predictions = np.argmax(y_pred, axis=1)\n",
        "        true_labels = np.argmax(y_true, axis=1)\n",
        "        return np.mean(predictions == true_labels)\n",
        "\n",
        "    def backward(self, X, y):\n",
        "        \"\"\"Backpropagation\"\"\"\n",
        "        m = X.shape[0]\n",
        "        self.d_weights = [np.zeros_like(w) for w in self.weights]\n",
        "        self.d_biases = [np.zeros_like(b) for b in self.biases]\n",
        "        dZ = self.activations[-1] - y\n",
        "        self.d_weights[-1] = (np.dot(self.activations[-2].T, dZ) + self.l2_lambda * self.weights[-1]) / m\n",
        "        self.d_biases[-1] = np.sum(dZ, axis=0, keepdims=True) / m\n",
        "        dA_prev = dZ\n",
        "        for i in range(len(self.weights) - 2, -1, -1):\n",
        "            dA = np.dot(dA_prev, self.weights[i + 1].T)\n",
        "            dZ = dA * relu_derivative(self.z_values[i])\n",
        "            self.d_weights[i] = (np.dot(self.activations[i].T, dZ) + self.l2_lambda * self.weights[i]) / m\n",
        "            self.d_biases[i] = np.sum(dZ, axis=0, keepdims=True) / m\n",
        "            dA_prev = dZ\n",
        "\n",
        "    def update_parameters(self):\n",
        "        \"\"\"Update parameters using SGD or Adam\"\"\"\n",
        "        if self.optimizer == 'sgd':\n",
        "            for i in range(len(self.weights)):\n",
        "                self.weights[i] -= self.learning_rate * self.d_weights[i]\n",
        "                self.biases[i] -= self.learning_rate * self.d_biases[i]\n",
        "        elif self.optimizer == 'adam':\n",
        "            self.t += 1\n",
        "            for i in range(len(self.weights)):\n",
        "                self.m_weights[i] = self.beta1 * self.m_weights[i] + (1 - self.beta1) * self.d_weights[i]\n",
        "                self.v_weights[i] = self.beta2 * self.v_weights[i] + (1 - self.beta2) * (self.d_weights[i] ** 2)\n",
        "                self.m_biases[i] = self.beta1 * self.m_biases[i] + (1 - self.beta1) * self.d_biases[i]\n",
        "                self.v_biases[i] = self.beta2 * self.v_biases[i] + (1 - self.beta2) * (self.d_biases[i] ** 2)\n",
        "                m_w_hat = self.m_weights[i] / (1 - self.beta1 ** self.t)\n",
        "                v_w_hat = self.v_weights[i] / (1 - self.beta2 ** self.t)\n",
        "                m_b_hat = self.m_biases[i] / (1 - self.beta1 ** self.t)\n",
        "                v_b_hat = self.v_biases[i] / (1 - self.beta2 ** self.t)\n",
        "                self.weights[i] -= self.learning_rate * m_w_hat / (np.sqrt(v_w_hat) + self.epsilon)\n",
        "                self.biases[i] -= self.learning_rate * m_b_hat / (np.sqrt(v_b_hat) + self.epsilon)\n",
        "\n",
        "    def train(self, X, y, X_val, y_val, epochs=100, batch_size=100, augment=False, early_stopping=True, verbose=1):\n",
        "        \"\"\"Train the MLP\"\"\"\n",
        "        train_losses, val_losses, train_accuracies, val_accuracies = [], [], [], []\n",
        "        best_val_loss = np.inf\n",
        "        best_weights = [w.copy() for w in self.weights]\n",
        "        best_biases = [b.copy() for b in self.biases]\n",
        "        patience, patience_counter = 10, 0\n",
        "\n",
        "        for epoch in range(epochs):\n",
        "            start_time = time.time()\n",
        "\n",
        "            indices = np.random.permutation(X.shape[0])\n",
        "            X_shuffled, y_shuffled = X[indices], y[indices]\n",
        "            epoch_loss = 0\n",
        "            for i in range(0, X.shape[0], batch_size):\n",
        "                X_batch = X_shuffled[i:i + batch_size]\n",
        "                y_batch = y_shuffled[i:i + batch_size]\n",
        "                if augment:\n",
        "                    X_batch = np.array([augment_image(img.reshape(32, 32)) for img in X_batch])\n",
        "                outputs = self.forward(X_batch)\n",
        "                epoch_loss += self.compute_loss(y_batch, outputs)\n",
        "                self.backward(X_batch, y_batch)\n",
        "                self.update_parameters()\n",
        "\n",
        "            train_pred = self.forward(X)\n",
        "            val_pred = self.forward(X_val)\n",
        "            train_loss = epoch_loss / (X.shape[0] // batch_size)\n",
        "            val_loss = self.compute_loss(y_val, val_pred)\n",
        "            train_accuracy = self.compute_accuracy(y, train_pred)\n",
        "            val_accuracy = self.compute_accuracy(y_val, val_pred)\n",
        "\n",
        "            train_losses.append(train_loss)\n",
        "            val_losses.append(val_loss)\n",
        "            train_accuracies.append(train_accuracy)\n",
        "            val_accuracies.append(val_accuracy)\n",
        "\n",
        "            end_time = time.time()\n",
        "            epoch_time = end_time - start_time\n",
        "\n",
        "            if early_stopping:\n",
        "                if val_loss < best_val_loss:\n",
        "                    best_val_loss = val_loss\n",
        "                    best_weights = [w.copy() for w in self.weights]\n",
        "                    best_biases = [b.copy() for b in self.biases]\n",
        "                    patience_counter = 0\n",
        "                else:\n",
        "                    patience_counter += 1\n",
        "                    if patience_counter >= patience:\n",
        "                        if verbose >= 1:\n",
        "                            print(f\"Early stopping at epoch {epoch + 1}\")\n",
        "                        self.weights = best_weights\n",
        "                        self.biases = best_biases\n",
        "                        break\n",
        "\n",
        "            log = (epoch % 10 == 0 or epoch == epochs - 1)\n",
        "            if verbose == 2 and log:\n",
        "                print(f\"Epoch {epoch + 1:03d} | Time: {epoch_time:.2f}s | \"\n",
        "                      f\"Train Loss: {train_loss:.4f} | Val Loss: {val_loss:.4f} | \"\n",
        "                      f\"Train Acc: {train_accuracy:.4f} | Val Acc: {val_accuracy:.4f}\")\n",
        "            elif verbose == 1 and log:\n",
        "                print(f\"\\nEpoch {epoch + 1:03d} | Train Loss: {train_loss:.4f} | Val Loss: {val_loss:.4f} | \"\n",
        "                      f\"Train Acc: {train_accuracy:.4f} | Val Acc: {val_accuracy:.4f}\")\n",
        "\n",
        "        return train_losses, val_losses, train_accuracies, val_accuracies\n",
        "\n",
        "\n",
        "\n",
        "    def predict(self, X):\n",
        "        \"\"\"Predict class labels\"\"\"\n",
        "        outputs = self.forward(X)\n",
        "        return np.argmax(outputs, axis=1)\n"
      ]
    },
    {
      "cell_type": "markdown",
      "metadata": {
        "id": "W4PaxqZQ1y29"
      },
      "source": [
        "## **6.K-Fold Cross-Validation**\n",
        "Function for K-fold cross-validation to evaluate model robustness."
      ]
    },
    {
      "cell_type": "code",
      "execution_count": 7,
      "metadata": {
        "id": "4S8q1bMm6waJ"
      },
      "outputs": [],
      "source": [
        "# K-Fold Cross-Validation\n",
        "def k_fold_cross_validation(X, y_one_hot, layer_sizes, k=5, epochs=100, batch_size=32,\n",
        "                            learning_rate=0.001, l2_lambda=0.01, optimizer='sgd',\n",
        "                            augment=False, early_stopping=False, verbose=1):\n",
        "    assert isinstance(X, np.ndarray) and isinstance(y_one_hot, np.ndarray), \"X and y_one_hot must be numpy arrays\"\n",
        "    assert X.shape[0] == y_one_hot.shape[0], \"X and y_one_hot must have the same number of samples\"\n",
        "    assert isinstance(layer_sizes, list) and len(layer_sizes) >= 2, \"layer_sizes must be a list with at least 2 elements\"\n",
        "    assert isinstance(k, int) and k > 1, \"k must be an integer greater than 1\"\n",
        "    assert isinstance(epochs, int) and epochs > 0, \"Epochs must be a positive integer\"\n",
        "    assert isinstance(batch_size, int) and batch_size > 0, \"Batch size must be a positive integer\"\n",
        "    assert optimizer.lower() in ['sgd', 'adam'], \"Optimizer must be 'sgd' or 'adam'\"\n",
        "\n",
        "    kf = KFold(n_splits=k, shuffle=True, random_state=42)\n",
        "    fold_train_losses, fold_val_losses = [], []\n",
        "    fold_train_accuracies, fold_val_accuracies = [], []\n",
        "\n",
        "    all_splits = list(kf.split(X))\n",
        "\n",
        "    for fold in trange(k, desc=\"Cross-validation folds\", disable=(verbose == 0)):\n",
        "        train_idx, val_idx = all_splits[fold]\n",
        "\n",
        "        if verbose >= 1:\n",
        "            print(f\"\\n=========================== Fold {fold + 1}/{k} ===========================================\\n\")\n",
        "        start_time = time.time()\n",
        "\n",
        "        X_train, X_val = X[train_idx], X[val_idx]\n",
        "        y_train_one_hot, y_val_one_hot = y_one_hot[train_idx], y_one_hot[val_idx]\n",
        "\n",
        "        nn = MulticlassNeuralNetwork(\n",
        "            layer_sizes, learning_rate=learning_rate, l2_lambda=l2_lambda, optimizer=optimizer\n",
        "        )\n",
        "\n",
        "        train_losses, val_losses, train_accuracies, val_accuracies = nn.train(\n",
        "            X_train, y_train_one_hot, X_val, y_val_one_hot,\n",
        "            epochs=epochs, batch_size=batch_size,\n",
        "            augment=augment, early_stopping=early_stopping, verbose=verbose\n",
        "        )\n",
        "\n",
        "        fold_train_losses.append(train_losses)\n",
        "        fold_val_losses.append(val_losses)\n",
        "        fold_train_accuracies.append(train_accuracies)\n",
        "        fold_val_accuracies.append(val_accuracies)\n",
        "\n",
        "        final_val_accuracy = val_accuracies[-1]\n",
        "        if verbose >= 2:\n",
        "            y_val_pred = nn.predict(X_val)\n",
        "            print(f\"\\n===========================Fold {fold + 1} Classification Report: =======================\")\n",
        "            print(classification_report(np.argmax(y_val_one_hot, axis=1), y_val_pred))\n",
        "\n",
        "        if verbose >= 1:\n",
        "            print(f\"Fold {fold + 1} completed in {time.time() - start_time:.2f} seconds\")\n",
        "            print(f\"Final validation accuracy: {final_val_accuracy:.4f}\")\n",
        "\n",
        "    avg_train_losses = np.mean(fold_train_losses, axis=0)\n",
        "    avg_val_losses = np.mean(fold_val_losses, axis=0)\n",
        "    avg_train_accuracies = np.mean(fold_train_accuracies, axis=0)\n",
        "    avg_val_accuracies = np.mean(fold_val_accuracies, axis=0)\n",
        "\n",
        "    if verbose >= 1:\n",
        "        print(f\"\\n=========================== Cross-Validation Summary ===========================\")\n",
        "        print(f\"Average final validation accuracy: {avg_val_accuracies[-1]:.4f}\")\n",
        "        print(f\"Metrics computed over {epochs} epochs\")\n",
        "\n",
        "    return avg_train_losses, avg_val_losses, avg_train_accuracies, avg_val_accuracies"
      ]
    },
    {
      "cell_type": "markdown",
      "metadata": {
        "id": "uEErF4d116EV"
      },
      "source": [
        "## **7.Dataset Loading and Preprocessing**\n",
        "Load AMHCD dataset, preprocess images, encode labels, and split data."
      ]
    },
    {
      "cell_type": "markdown",
      "metadata": {
        "id": "SoZNo7cZSmy3"
      },
      "source": [
        "### **7.1. Extracting & Loading AMHCD DataSet**"
      ]
    },
    {
      "cell_type": "code",
      "execution_count": 8,
      "metadata": {
        "id": "tWzCzSLhpTx2"
      },
      "outputs": [],
      "source": [
        "def cleanup(base_dir=\"/content/\", temp_dir=\"temp\"):\n",
        "    temp_dir = os.path.join(base_dir, temp_dir)\n",
        "    shutil.rmtree(temp_dir, ignore_errors=True)\n",
        "    print(f\"{temp_dir} Cleaned up.\")"
      ]
    },
    {
      "cell_type": "code",
      "execution_count": 9,
      "metadata": {
        "colab": {
          "base_uri": "https://localhost:8080/"
        },
        "id": "drGBaLikpVtA",
        "outputId": "6cebba13-0263-4d7e-f72d-571dcdd5e7cc"
      },
      "outputs": [
        {
          "output_type": "stream",
          "name": "stdout",
          "text": [
            "/content/amhcd Cleaned up.\n",
            "Path to dataset files: /content/amhcd\n"
          ]
        }
      ],
      "source": [
        "# Download latest version\n",
        "path = kagglehub.dataset_download(\"benaddym/amazigh-handwritten-character-database-amhcd\")\n",
        "\n",
        "target_dir = \"/content/amhcd\"\n",
        "cleanup(temp_dir=target_dir)\n",
        "shutil.copytree(path, target_dir, dirs_exist_ok=True)\n",
        "\n",
        "print(\"Path to dataset files:\", target_dir)"
      ]
    },
    {
      "cell_type": "code",
      "execution_count": 10,
      "metadata": {
        "id": "LPtjpCrD_fW2"
      },
      "outputs": [],
      "source": [
        "latin_labels_txt    = target_dir + '/labels/labels/33-common-latin-tifinagh.txt'\n",
        "\n",
        "tifinagh_labels_txt = target_dir + '/labels/labels/sorted-33-common-tifinagh.txt'\n",
        "images_root         = target_dir + '/AMHCD_64/AMHCD_64'\n",
        "output_csv          = target_dir + '/rgb-labels-map.csv'\n",
        "\n",
        "# Lire les labels Latin et les glyphes Tifinagh\n",
        "with open(latin_labels_txt, 'r', encoding='utf-8') as f:\n",
        "    ascii_labels = [line.strip() for line in f if line.strip()]\n",
        "\n",
        "with open(tifinagh_labels_txt, 'r', encoding='utf-8') as f:\n",
        "    tif_chars = [line.strip() for line in f if line.strip()]\n",
        "\n",
        "#  Vérification\n",
        "if len(ascii_labels) != len(tif_chars):\n",
        "    print(f\"Erreur : {len(ascii_labels)} labels Latin ≠ {len(tif_chars)} glyphes Tifinagh\")\n",
        "    sys.exit(1)\n",
        "\n"
      ]
    },
    {
      "cell_type": "code",
      "execution_count": 11,
      "metadata": {
        "colab": {
          "base_uri": "https://localhost:8080/"
        },
        "id": "t3Y83mzUFTha",
        "outputId": "8197fbee-1e29-4dee-8ac7-a801a7c64fd3"
      },
      "outputs": [
        {
          "output_type": "stream",
          "name": "stdout",
          "text": [
            "Généré /content/amhcd/rgb-labels-map.csv avec 25740 entrées.\n"
          ]
        }
      ],
      "source": [
        "# Génération du CSV\n",
        "with open(output_csv, 'w', encoding='utf-8', newline='') as out:\n",
        "    for latin, tif in zip(ascii_labels, tif_chars):\n",
        "        folder = os.path.join(images_root, latin)\n",
        "        if not os.path.isdir(folder):\n",
        "            print(f\"Dossier introuvable, je passe : {folder}\")\n",
        "            continue\n",
        "        for fname in sorted(os.listdir(folder)):\n",
        "            # filtrer si nécessaire par extension d’image\n",
        "            if not fname.lower().endswith(('.png','.jpg','.jpeg','.bmp','.tif','.tiff')):\n",
        "                continue\n",
        "            rel_path = f\"{images_root}/{latin}/{fname}\"\n",
        "            # Écrire UNE ligne contenant chemin + glyphe\n",
        "            out.write(f\"{rel_path},{tif}\\n\")\n",
        "\n",
        "print(f\"Généré {output_csv} avec {sum(len(os.listdir(os.path.join(images_root,l))) for l in ascii_labels if os.path.isdir(os.path.join(images_root,l)))} entrées.\")"
      ]
    },
    {
      "cell_type": "code",
      "execution_count": 12,
      "metadata": {
        "id": "5DiSUotZG7b8"
      },
      "outputs": [],
      "source": [
        "labels_df = pd.read_csv(output_csv, names=['image_path', 'label'])"
      ]
    },
    {
      "cell_type": "code",
      "execution_count": 13,
      "metadata": {
        "colab": {
          "base_uri": "https://localhost:8080/"
        },
        "id": "DCUQE90FUVDA",
        "outputId": "1cfc7d98-98ef-4081-da48-670725c133b5"
      },
      "outputs": [
        {
          "output_type": "stream",
          "name": "stdout",
          "text": [
            "Sample image paths:\n",
            "/content/amhcd/AMHCD_64/AMHCD_64/ya/ya_1.jpeg -> Exists: True\n",
            "/content/amhcd/AMHCD_64/AMHCD_64/ya/ya_10.jpeg -> Exists: True\n",
            "/content/amhcd/AMHCD_64/AMHCD_64/ya/ya_100.jpeg -> Exists: True\n",
            "/content/amhcd/AMHCD_64/AMHCD_64/ya/ya_101.jpeg -> Exists: True\n",
            "/content/amhcd/AMHCD_64/AMHCD_64/ya/ya_102.jpeg -> Exists: True\n",
            "\n",
            "Loaded 25740 samples with 33 unique classes .\n"
          ]
        }
      ],
      "source": [
        "# Debugging: Print sample paths\n",
        "print(\"Sample image paths:\")\n",
        "for path in labels_df['image_path'].head(5):\n",
        "    full_path = os.path.join(target_dir, path)\n",
        "    print(f\"{full_path} -> Exists: {os.path.exists(full_path)}\")\n",
        "\n",
        "print(f\"\\nLoaded {len(labels_df)} samples with {labels_df['label'].nunique ()} unique classes .\")"
      ]
    },
    {
      "cell_type": "code",
      "execution_count": 14,
      "metadata": {
        "colab": {
          "base_uri": "https://localhost:8080/"
        },
        "id": "YSICsY_lUqUW",
        "outputId": "e5849e11-c4c0-4787-c0fa-95d9c6842631"
      },
      "outputs": [
        {
          "output_type": "stream",
          "name": "stdout",
          "text": [
            "Class distribution summary:\n",
            "Min: 780, Max: 780, Mean: 780.00\n"
          ]
        }
      ],
      "source": [
        "class_counts = labels_df['label'].value_counts()\n",
        "print(\"Class distribution summary:\")\n",
        "print(f\"Min: {class_counts.min()}, Max: {class_counts.max()}, Mean: {class_counts.mean():.2f}\")"
      ]
    },
    {
      "cell_type": "code",
      "execution_count": 15,
      "metadata": {
        "colab": {
          "base_uri": "https://localhost:8080/"
        },
        "id": "sUMCCi6rUglE",
        "outputId": "a7d68151-e3cf-480e-ab09-ac560c29c434"
      },
      "outputs": [
        {
          "output_type": "stream",
          "name": "stdout",
          "text": [
            "Label encoding ...\n",
            "==================== Data with label encoded: ======================\n",
            "                                            image_path label  label_encoded\n",
            "0        /content/amhcd/AMHCD_64/AMHCD_64/ya/ya_1.jpeg     ⴰ              0\n",
            "1       /content/amhcd/AMHCD_64/AMHCD_64/ya/ya_10.jpeg     ⴰ              0\n",
            "2      /content/amhcd/AMHCD_64/AMHCD_64/ya/ya_100.jpeg     ⴰ              0\n",
            "3      /content/amhcd/AMHCD_64/AMHCD_64/ya/ya_101.jpeg     ⴰ              0\n",
            "4      /content/amhcd/AMHCD_64/AMHCD_64/ya/ya_102.jpeg     ⴰ              0\n",
            "...                                                ...   ...            ...\n",
            "25735   /content/amhcd/AMHCD_64/AMHCD_64/yu/yu_95.jpeg     ⵓ             20\n",
            "25736   /content/amhcd/AMHCD_64/AMHCD_64/yu/yu_96.jpeg     ⵓ             20\n",
            "25737   /content/amhcd/AMHCD_64/AMHCD_64/yu/yu_97.jpeg     ⵓ             20\n",
            "25738   /content/amhcd/AMHCD_64/AMHCD_64/yu/yu_98.jpeg     ⵓ             20\n",
            "25739   /content/amhcd/AMHCD_64/AMHCD_64/yu/yu_99.jpeg     ⵓ             20\n",
            "\n",
            "[25740 rows x 3 columns]\n"
          ]
        }
      ],
      "source": [
        "print(\"Label encoding ...\")\n",
        "# Encode labels\n",
        "label_encoder = LabelEncoder()\n",
        "labels_df['label_encoded'] = label_encoder.fit_transform(labels_df['label'])\n",
        "num_classes = len(label_encoder.classes_)\n",
        "\n",
        "print(\"==================== Data with label encoded: ======================\")\n",
        "print(labels_df)"
      ]
    },
    {
      "cell_type": "code",
      "execution_count": 16,
      "metadata": {
        "colab": {
          "base_uri": "https://localhost:8080/",
          "height": 1000
        },
        "id": "zdbZdosHDQYP",
        "outputId": "4e87c0e9-a260-44da-e8e6-d2c60d402492"
      },
      "outputs": [
        {
          "output_type": "stream",
          "name": "stdout",
          "text": [
            "Class distribution:\n"
          ]
        },
        {
          "output_type": "display_data",
          "data": {
            "text/plain": [
              "label  label_encoded\n",
              "ⴰ      0                780\n",
              "ⴱ      1                780\n",
              "ⴳ      2                780\n",
              "ⴳⵯ     3                780\n",
              "ⴷ      4                780\n",
              "ⴹ      5                780\n",
              "ⴻ      6                780\n",
              "ⴼ      7                780\n",
              "ⴽ      8                780\n",
              "ⴽⵯ     9                780\n",
              "ⵀ      10               780\n",
              "ⵃ      11               780\n",
              "ⵄ      12               780\n",
              "ⵅ      13               780\n",
              "ⵇ      14               780\n",
              "ⵉ      15               780\n",
              "ⵊ      16               780\n",
              "ⵍ      17               780\n",
              "ⵎ      18               780\n",
              "ⵏ      19               780\n",
              "ⵓ      20               780\n",
              "ⵔ      21               780\n",
              "ⵕ      22               780\n",
              "ⵖ      23               780\n",
              "ⵙ      24               780\n",
              "ⵚ      25               780\n",
              "ⵛ      26               780\n",
              "ⵜ      27               780\n",
              "ⵟ      28               780\n",
              "ⵡ      29               780\n",
              "ⵢ      30               780\n",
              "ⵣ      31               780\n",
              "ⵥ      32               780\n",
              "Name: count, dtype: int64"
            ],
            "text/html": [
              "<div>\n",
              "<style scoped>\n",
              "    .dataframe tbody tr th:only-of-type {\n",
              "        vertical-align: middle;\n",
              "    }\n",
              "\n",
              "    .dataframe tbody tr th {\n",
              "        vertical-align: top;\n",
              "    }\n",
              "\n",
              "    .dataframe thead th {\n",
              "        text-align: right;\n",
              "    }\n",
              "</style>\n",
              "<table border=\"1\" class=\"dataframe\">\n",
              "  <thead>\n",
              "    <tr style=\"text-align: right;\">\n",
              "      <th></th>\n",
              "      <th></th>\n",
              "      <th>count</th>\n",
              "    </tr>\n",
              "    <tr>\n",
              "      <th>label</th>\n",
              "      <th>label_encoded</th>\n",
              "      <th></th>\n",
              "    </tr>\n",
              "  </thead>\n",
              "  <tbody>\n",
              "    <tr>\n",
              "      <th>ⴰ</th>\n",
              "      <th>0</th>\n",
              "      <td>780</td>\n",
              "    </tr>\n",
              "    <tr>\n",
              "      <th>ⴱ</th>\n",
              "      <th>1</th>\n",
              "      <td>780</td>\n",
              "    </tr>\n",
              "    <tr>\n",
              "      <th>ⴳ</th>\n",
              "      <th>2</th>\n",
              "      <td>780</td>\n",
              "    </tr>\n",
              "    <tr>\n",
              "      <th>ⴳⵯ</th>\n",
              "      <th>3</th>\n",
              "      <td>780</td>\n",
              "    </tr>\n",
              "    <tr>\n",
              "      <th>ⴷ</th>\n",
              "      <th>4</th>\n",
              "      <td>780</td>\n",
              "    </tr>\n",
              "    <tr>\n",
              "      <th>ⴹ</th>\n",
              "      <th>5</th>\n",
              "      <td>780</td>\n",
              "    </tr>\n",
              "    <tr>\n",
              "      <th>ⴻ</th>\n",
              "      <th>6</th>\n",
              "      <td>780</td>\n",
              "    </tr>\n",
              "    <tr>\n",
              "      <th>ⴼ</th>\n",
              "      <th>7</th>\n",
              "      <td>780</td>\n",
              "    </tr>\n",
              "    <tr>\n",
              "      <th>ⴽ</th>\n",
              "      <th>8</th>\n",
              "      <td>780</td>\n",
              "    </tr>\n",
              "    <tr>\n",
              "      <th>ⴽⵯ</th>\n",
              "      <th>9</th>\n",
              "      <td>780</td>\n",
              "    </tr>\n",
              "    <tr>\n",
              "      <th>ⵀ</th>\n",
              "      <th>10</th>\n",
              "      <td>780</td>\n",
              "    </tr>\n",
              "    <tr>\n",
              "      <th>ⵃ</th>\n",
              "      <th>11</th>\n",
              "      <td>780</td>\n",
              "    </tr>\n",
              "    <tr>\n",
              "      <th>ⵄ</th>\n",
              "      <th>12</th>\n",
              "      <td>780</td>\n",
              "    </tr>\n",
              "    <tr>\n",
              "      <th>ⵅ</th>\n",
              "      <th>13</th>\n",
              "      <td>780</td>\n",
              "    </tr>\n",
              "    <tr>\n",
              "      <th>ⵇ</th>\n",
              "      <th>14</th>\n",
              "      <td>780</td>\n",
              "    </tr>\n",
              "    <tr>\n",
              "      <th>ⵉ</th>\n",
              "      <th>15</th>\n",
              "      <td>780</td>\n",
              "    </tr>\n",
              "    <tr>\n",
              "      <th>ⵊ</th>\n",
              "      <th>16</th>\n",
              "      <td>780</td>\n",
              "    </tr>\n",
              "    <tr>\n",
              "      <th>ⵍ</th>\n",
              "      <th>17</th>\n",
              "      <td>780</td>\n",
              "    </tr>\n",
              "    <tr>\n",
              "      <th>ⵎ</th>\n",
              "      <th>18</th>\n",
              "      <td>780</td>\n",
              "    </tr>\n",
              "    <tr>\n",
              "      <th>ⵏ</th>\n",
              "      <th>19</th>\n",
              "      <td>780</td>\n",
              "    </tr>\n",
              "    <tr>\n",
              "      <th>ⵓ</th>\n",
              "      <th>20</th>\n",
              "      <td>780</td>\n",
              "    </tr>\n",
              "    <tr>\n",
              "      <th>ⵔ</th>\n",
              "      <th>21</th>\n",
              "      <td>780</td>\n",
              "    </tr>\n",
              "    <tr>\n",
              "      <th>ⵕ</th>\n",
              "      <th>22</th>\n",
              "      <td>780</td>\n",
              "    </tr>\n",
              "    <tr>\n",
              "      <th>ⵖ</th>\n",
              "      <th>23</th>\n",
              "      <td>780</td>\n",
              "    </tr>\n",
              "    <tr>\n",
              "      <th>ⵙ</th>\n",
              "      <th>24</th>\n",
              "      <td>780</td>\n",
              "    </tr>\n",
              "    <tr>\n",
              "      <th>ⵚ</th>\n",
              "      <th>25</th>\n",
              "      <td>780</td>\n",
              "    </tr>\n",
              "    <tr>\n",
              "      <th>ⵛ</th>\n",
              "      <th>26</th>\n",
              "      <td>780</td>\n",
              "    </tr>\n",
              "    <tr>\n",
              "      <th>ⵜ</th>\n",
              "      <th>27</th>\n",
              "      <td>780</td>\n",
              "    </tr>\n",
              "    <tr>\n",
              "      <th>ⵟ</th>\n",
              "      <th>28</th>\n",
              "      <td>780</td>\n",
              "    </tr>\n",
              "    <tr>\n",
              "      <th>ⵡ</th>\n",
              "      <th>29</th>\n",
              "      <td>780</td>\n",
              "    </tr>\n",
              "    <tr>\n",
              "      <th>ⵢ</th>\n",
              "      <th>30</th>\n",
              "      <td>780</td>\n",
              "    </tr>\n",
              "    <tr>\n",
              "      <th>ⵣ</th>\n",
              "      <th>31</th>\n",
              "      <td>780</td>\n",
              "    </tr>\n",
              "    <tr>\n",
              "      <th>ⵥ</th>\n",
              "      <th>32</th>\n",
              "      <td>780</td>\n",
              "    </tr>\n",
              "  </tbody>\n",
              "</table>\n",
              "</div><br><label><b>dtype:</b> int64</label>"
            ]
          },
          "metadata": {}
        }
      ],
      "source": [
        "print(f\"Class distribution:\")\n",
        "# display(labels_df['label'].value_counts())\n",
        "display(labels_df[['label', 'label_encoded']].value_counts())"
      ]
    },
    {
      "cell_type": "code",
      "execution_count": 17,
      "metadata": {
        "id": "GoyUb1q_TC8N"
      },
      "outputs": [],
      "source": [
        "# Load images\n",
        "X = np.array([load_and_preprocess_image(path, target_dir) for path in labels_df['image_path']])\n",
        "y = labels_df['label_encoded'].values\n",
        "\n",
        "# Verify dimensions\n",
        "assert X.shape[0] == y.shape[0], \"Mismatch between number of images and labels\"\n",
        "assert X.shape[1] == 32 * 32, f\"Expected flattened image size of {32 * 32}, got {X.shape[1]}\"\n"
      ]
    },
    {
      "cell_type": "code",
      "execution_count": 18,
      "metadata": {
        "colab": {
          "base_uri": "https://localhost:8080/",
          "height": 34
        },
        "id": "6nwS6JecVIX6",
        "outputId": "fa24cf84-69cf-4dad-81c0-7a7c92316462"
      },
      "outputs": [
        {
          "output_type": "display_data",
          "data": {
            "text/plain": [
              "<IPython.core.display.Javascript object>"
            ],
            "application/javascript": [
              "\n",
              "    async function download(id, filename, size) {\n",
              "      if (!google.colab.kernel.accessAllowed) {\n",
              "        return;\n",
              "      }\n",
              "      const div = document.createElement('div');\n",
              "      const label = document.createElement('label');\n",
              "      label.textContent = `Downloading \"${filename}\": `;\n",
              "      div.appendChild(label);\n",
              "      const progress = document.createElement('progress');\n",
              "      progress.max = size;\n",
              "      div.appendChild(progress);\n",
              "      document.body.appendChild(div);\n",
              "\n",
              "      const buffers = [];\n",
              "      let downloaded = 0;\n",
              "\n",
              "      const channel = await google.colab.kernel.comms.open(id);\n",
              "      // Send a message to notify the kernel that we're ready.\n",
              "      channel.send({})\n",
              "\n",
              "      for await (const message of channel.messages) {\n",
              "        // Send a message to notify the kernel that we're ready.\n",
              "        channel.send({})\n",
              "        if (message.buffers) {\n",
              "          for (const buffer of message.buffers) {\n",
              "            buffers.push(buffer);\n",
              "            downloaded += buffer.byteLength;\n",
              "            progress.value = downloaded;\n",
              "          }\n",
              "        }\n",
              "      }\n",
              "      const blob = new Blob(buffers, {type: 'application/binary'});\n",
              "      const a = document.createElement('a');\n",
              "      a.href = window.URL.createObjectURL(blob);\n",
              "      a.download = filename;\n",
              "      div.appendChild(a);\n",
              "      a.click();\n",
              "      div.remove();\n",
              "    }\n",
              "  "
            ]
          },
          "metadata": {}
        },
        {
          "output_type": "display_data",
          "data": {
            "text/plain": [
              "<IPython.core.display.Javascript object>"
            ],
            "application/javascript": [
              "download(\"download_6d87f3f4-6005-480a-b91b-d82975b53158\", \"sample_images1.png\", 904841)"
            ]
          },
          "metadata": {}
        }
      ],
      "source": [
        "fig = display_sample_images_from_paths(labels_df, target_dir, random_state=4)\n",
        "plt.savefig('sample_images1.png')\n",
        "files.download('sample_images1.png')\n",
        "plt.close()\n"
      ]
    },
    {
      "cell_type": "code",
      "execution_count": 19,
      "metadata": {
        "colab": {
          "base_uri": "https://localhost:8080/"
        },
        "id": "xkNBfV2jVPts",
        "outputId": "dc2b8f7c-af0a-4311-9754-8befd87f764e"
      },
      "outputs": [
        {
          "output_type": "stream",
          "name": "stdout",
          "text": [
            "Train: 15444, Val: 5148, Test: 5148\n"
          ]
        }
      ],
      "source": [
        "X_temp, X_test, y_temp, y_test = train_test_split(X, y, test_size=0.2, stratify=y, random_state=42)\n",
        "X_train, X_val, y_train, y_val = train_test_split(X_temp, y_temp, test_size=0.25, stratify=y_temp, random_state=42)\n",
        "\n",
        "one_hot_encoder = OneHotEncoder(sparse_output=False)\n",
        "y_train_one_hot = one_hot_encoder.fit_transform(y_train.reshape(-1, 1))\n",
        "y_val_one_hot = one_hot_encoder.transform(y_val.reshape(-1, 1))\n",
        "y_test_one_hot = one_hot_encoder.transform(y_test.reshape(-1, 1))\n",
        "print(f\"Train: {X_train.shape[0]}, Val: {X_val.shape[0]}, Test: {X_test.shape[0]}\")"
      ]
    },
    {
      "cell_type": "markdown",
      "metadata": {
        "id": "wQTReXuzVo-8"
      },
      "source": [
        "# **8.Hyperparameter Tuning**\n"
      ]
    },
    {
      "cell_type": "code",
      "execution_count": 20,
      "metadata": {
        "id": "Im1aUXMvGW-f"
      },
      "outputs": [],
      "source": [
        "layer_sizes = [32 * 32, 64, 32, num_classes]\n",
        "param_distributions = {\n",
        "    'learning_rate': [0.01, 0.001],\n",
        "    'l2_lambda': [0.01, 0.001],\n",
        "    'batch_size': [64, 32],\n",
        "    'optimizer': ['adam', 'sgd']\n",
        "}\n",
        "\n",
        "n_iter = 16\n",
        "\n",
        "# All possible combinations\n",
        "keys = list(param_distributions.keys())\n",
        "all_combinations = [\n",
        "    dict(zip(keys, values))\n",
        "    for values in itertools.product(*param_distributions.values())\n",
        "]\n",
        "\n",
        "# Shuffle and pick n_iter unique combinations\n",
        "random.shuffle(all_combinations)\n",
        "random_param_combinations  = all_combinations[:n_iter]\n",
        "\n",
        "assert len(random_param_combinations) == len(set(tuple(sorted(p.items())) for p in random_param_combinations)), \"Duplicate combinations found!\"\n",
        "\n",
        "results = []\n",
        "best_val_accuracy = 0\n",
        "best_params = None"
      ]
    },
    {
      "cell_type": "code",
      "execution_count": null,
      "metadata": {
        "id": "RfvBHqp_WUXl",
        "colab": {
          "base_uri": "https://localhost:8080/"
        },
        "outputId": "143bd578-9afc-4bb3-ce7f-88e167f0a085"
      },
      "outputs": [
        {
          "output_type": "stream",
          "name": "stderr",
          "text": [
            "\rRandom Search:   0%|          | 0/16 [00:00<?, ?it/s]"
          ]
        },
        {
          "output_type": "stream",
          "name": "stdout",
          "text": [
            "\n",
            "Trial 1/16: {'learning_rate': 0.001, 'l2_lambda': 0.001, 'batch_size': 32, 'optimizer': 'adam'}\n"
          ]
        },
        {
          "output_type": "stream",
          "name": "stderr",
          "text": [
            "\n",
            "Cross-validation folds:   0%|          | 0/5 [00:00<?, ?it/s]\u001b[A"
          ]
        },
        {
          "output_type": "stream",
          "name": "stdout",
          "text": [
            "\n",
            "=========================== Fold 1/5 ===========================================\n",
            "\n",
            "Epoch 001 | Time: 3.51s | Train Loss: 3.4942 | Val Loss: 3.3862 | Train Acc: 0.0724 | Val Acc: 0.0673\n",
            "Epoch 011 | Time: 3.60s | Train Loss: 1.9000 | Val Loss: 1.5514 | Train Acc: 0.5403 | Val Acc: 0.5277\n",
            "Epoch 021 | Time: 3.70s | Train Loss: 1.6107 | Val Loss: 1.1960 | Train Acc: 0.6468 | Val Acc: 0.6319\n",
            "Epoch 031 | Time: 3.60s | Train Loss: 1.3993 | Val Loss: 0.9940 | Train Acc: 0.6987 | Val Acc: 0.6860\n",
            "Epoch 041 | Time: 7.49s | Train Loss: 1.2554 | Val Loss: 0.8166 | Train Acc: 0.7709 | Val Acc: 0.7588\n",
            "Epoch 051 | Time: 9.10s | Train Loss: 1.1519 | Val Loss: 0.7334 | Train Acc: 0.7820 | Val Acc: 0.7770\n",
            "Epoch 061 | Time: 11.90s | Train Loss: 1.0477 | Val Loss: 0.6626 | Train Acc: 0.8126 | Val Acc: 0.7986\n",
            "Epoch 071 | Time: 14.30s | Train Loss: 1.0170 | Val Loss: 0.6330 | Train Acc: 0.8168 | Val Acc: 0.8074\n",
            "Epoch 081 | Time: 14.30s | Train Loss: 0.9918 | Val Loss: 0.6793 | Train Acc: 0.7938 | Val Acc: 0.7795\n",
            "Epoch 091 | Time: 14.40s | Train Loss: 0.9813 | Val Loss: 0.5511 | Train Acc: 0.8547 | Val Acc: 0.8420\n",
            "Epoch 100 | Time: 14.19s | Train Loss: 0.9726 | Val Loss: 0.5608 | Train Acc: 0.8436 | Val Acc: 0.8291\n"
          ]
        },
        {
          "output_type": "stream",
          "name": "stderr",
          "text": [
            "\n",
            "Cross-validation folds:  20%|██        | 1/5 [14:56<59:45, 896.33s/it]\u001b[A"
          ]
        },
        {
          "output_type": "stream",
          "name": "stdout",
          "text": [
            "\n",
            "===========================Fold 1 Classification Report: =======================\n",
            "              precision    recall  f1-score   support\n",
            "\n",
            "           0       1.00      1.00      1.00        90\n",
            "           1       0.83      0.98      0.90        93\n",
            "           2       0.85      0.83      0.84        93\n",
            "           3       0.92      0.71      0.80       101\n",
            "           4       0.84      0.92      0.88        85\n",
            "           5       0.69      0.59      0.64        80\n",
            "           6       0.88      0.62      0.72       102\n",
            "           7       0.85      0.86      0.85        83\n",
            "           8       0.71      0.87      0.78        83\n",
            "           9       0.88      0.84      0.86       109\n",
            "          10       0.97      0.93      0.95        76\n",
            "          11       0.71      0.92      0.80        95\n",
            "          12       0.87      0.97      0.92        95\n",
            "          13       0.67      0.92      0.78        93\n",
            "          14       0.71      0.66      0.69        89\n",
            "          15       0.80      0.79      0.79        90\n",
            "          16       0.90      0.79      0.84        96\n",
            "          17       0.91      0.91      0.91        95\n",
            "          18       0.88      0.65      0.75        93\n",
            "          19       0.92      0.98      0.95        99\n",
            "          20       0.91      0.75      0.82       104\n",
            "          21       0.88      0.79      0.83        98\n",
            "          22       0.84      0.91      0.88       105\n",
            "          23       0.88      0.98      0.93       100\n",
            "          24       0.75      0.74      0.74        99\n",
            "          25       0.93      0.80      0.86       103\n",
            "          26       0.97      0.85      0.91        81\n",
            "          27       0.93      0.85      0.89        98\n",
            "          28       0.73      0.92      0.82       105\n",
            "          29       0.99      0.98      0.98        88\n",
            "          30       0.72      0.83      0.77       103\n",
            "          31       0.87      0.47      0.61        95\n",
            "          32       0.50      0.76      0.60        70\n",
            "\n",
            "    accuracy                           0.83      3089\n",
            "   macro avg       0.84      0.83      0.83      3089\n",
            "weighted avg       0.84      0.83      0.83      3089\n",
            "\n",
            "Fold 1 completed in 896.33 seconds\n",
            "Final validation accuracy: 0.8291\n",
            "\n",
            "=========================== Fold 2/5 ===========================================\n",
            "\n",
            "Epoch 001 | Time: 3.29s | Train Loss: 3.5163 | Val Loss: 3.4974 | Train Acc: 0.0316 | Val Acc: 0.0262\n",
            "Epoch 011 | Time: 3.60s | Train Loss: 3.5074 | Val Loss: 3.4990 | Train Acc: 0.0318 | Val Acc: 0.0243\n",
            "Epoch 021 | Time: 3.69s | Train Loss: 3.5062 | Val Loss: 3.4991 | Train Acc: 0.0318 | Val Acc: 0.0243\n",
            "Epoch 031 | Time: 3.70s | Train Loss: 3.5059 | Val Loss: 3.4990 | Train Acc: 0.0318 | Val Acc: 0.0243\n",
            "Epoch 041 | Time: 5.61s | Train Loss: 3.5058 | Val Loss: 3.4991 | Train Acc: 0.0318 | Val Acc: 0.0243\n",
            "Epoch 051 | Time: 10.99s | Train Loss: 3.5057 | Val Loss: 3.4991 | Train Acc: 0.0318 | Val Acc: 0.0243\n",
            "Epoch 061 | Time: 10.70s | Train Loss: 3.5057 | Val Loss: 3.4991 | Train Acc: 0.0318 | Val Acc: 0.0243\n",
            "Epoch 071 | Time: 13.79s | Train Loss: 3.5059 | Val Loss: 3.4989 | Train Acc: 0.0318 | Val Acc: 0.0243\n",
            "Epoch 081 | Time: 14.10s | Train Loss: 3.5057 | Val Loss: 3.4989 | Train Acc: 0.0318 | Val Acc: 0.0243\n",
            "Epoch 091 | Time: 14.20s | Train Loss: 3.5057 | Val Loss: 3.4990 | Train Acc: 0.0318 | Val Acc: 0.0243\n",
            "Epoch 100 | Time: 14.01s | Train Loss: 3.5057 | Val Loss: 3.4990 | Train Acc: 0.0318 | Val Acc: 0.0243\n"
          ]
        },
        {
          "output_type": "stream",
          "name": "stderr",
          "text": [
            "/usr/local/lib/python3.11/dist-packages/sklearn/metrics/_classification.py:1565: UndefinedMetricWarning: Precision is ill-defined and being set to 0.0 in labels with no predicted samples. Use `zero_division` parameter to control this behavior.\n",
            "  _warn_prf(average, modifier, f\"{metric.capitalize()} is\", len(result))\n",
            "/usr/local/lib/python3.11/dist-packages/sklearn/metrics/_classification.py:1565: UndefinedMetricWarning: Precision is ill-defined and being set to 0.0 in labels with no predicted samples. Use `zero_division` parameter to control this behavior.\n",
            "  _warn_prf(average, modifier, f\"{metric.capitalize()} is\", len(result))\n",
            "/usr/local/lib/python3.11/dist-packages/sklearn/metrics/_classification.py:1565: UndefinedMetricWarning: Precision is ill-defined and being set to 0.0 in labels with no predicted samples. Use `zero_division` parameter to control this behavior.\n",
            "  _warn_prf(average, modifier, f\"{metric.capitalize()} is\", len(result))\n",
            "\n",
            "Cross-validation folds:  40%|████      | 2/5 [29:37<44:21, 887.31s/it]\u001b[A"
          ]
        },
        {
          "output_type": "stream",
          "name": "stdout",
          "text": [
            "\n",
            "===========================Fold 2 Classification Report: =======================\n",
            "              precision    recall  f1-score   support\n",
            "\n",
            "           0       0.00      0.00      0.00        80\n",
            "           1       0.00      0.00      0.00        88\n",
            "           2       0.00      0.00      0.00       103\n",
            "           3       0.00      0.00      0.00        96\n",
            "           4       0.00      0.00      0.00        81\n",
            "           5       0.00      0.00      0.00       108\n",
            "           6       0.00      0.00      0.00        91\n",
            "           7       0.00      0.00      0.00       102\n",
            "           8       0.00      0.00      0.00       101\n",
            "           9       0.02      1.00      0.05        75\n",
            "          10       0.00      0.00      0.00        85\n",
            "          11       0.00      0.00      0.00       102\n",
            "          12       0.00      0.00      0.00        87\n",
            "          13       0.00      0.00      0.00       109\n",
            "          14       0.00      0.00      0.00       106\n",
            "          15       0.00      0.00      0.00       101\n",
            "          16       0.00      0.00      0.00        90\n",
            "          17       0.00      0.00      0.00        93\n",
            "          18       0.00      0.00      0.00        97\n",
            "          19       0.00      0.00      0.00        94\n",
            "          20       0.00      0.00      0.00        94\n",
            "          21       0.00      0.00      0.00        83\n",
            "          22       0.00      0.00      0.00        97\n",
            "          23       0.00      0.00      0.00        96\n",
            "          24       0.00      0.00      0.00        84\n",
            "          25       0.00      0.00      0.00        93\n",
            "          26       0.00      0.00      0.00       110\n",
            "          27       0.00      0.00      0.00        93\n",
            "          28       0.00      0.00      0.00        89\n",
            "          29       0.00      0.00      0.00        82\n",
            "          30       0.00      0.00      0.00        85\n",
            "          31       0.00      0.00      0.00       101\n",
            "          32       0.00      0.00      0.00        93\n",
            "\n",
            "    accuracy                           0.02      3089\n",
            "   macro avg       0.00      0.03      0.00      3089\n",
            "weighted avg       0.00      0.02      0.00      3089\n",
            "\n",
            "Fold 2 completed in 881.00 seconds\n",
            "Final validation accuracy: 0.0243\n",
            "\n",
            "=========================== Fold 3/5 ===========================================\n",
            "\n",
            "Epoch 001 | Time: 3.39s | Train Loss: 3.5030 | Val Loss: 3.4829 | Train Acc: 0.0307 | Val Acc: 0.0291\n",
            "Epoch 011 | Time: 3.60s | Train Loss: 1.6984 | Val Loss: 1.4334 | Train Acc: 0.5669 | Val Acc: 0.5481\n",
            "Epoch 021 | Time: 3.60s | Train Loss: 1.4495 | Val Loss: 1.0160 | Train Acc: 0.7249 | Val Acc: 0.7067\n",
            "Epoch 031 | Time: 3.70s | Train Loss: 1.2349 | Val Loss: 0.8663 | Train Acc: 0.7620 | Val Acc: 0.7488\n",
            "Epoch 041 | Time: 4.00s | Train Loss: 1.1971 | Val Loss: 0.7546 | Train Acc: 0.7886 | Val Acc: 0.7821\n",
            "Epoch 051 | Time: 8.19s | Train Loss: 1.0876 | Val Loss: 0.6761 | Train Acc: 0.8294 | Val Acc: 0.8229\n",
            "Epoch 061 | Time: 9.81s | Train Loss: 1.0529 | Val Loss: 0.6415 | Train Acc: 0.8266 | Val Acc: 0.8304\n",
            "Epoch 071 | Time: 13.99s | Train Loss: 1.0188 | Val Loss: 0.6226 | Train Acc: 0.8298 | Val Acc: 0.8258\n",
            "Epoch 081 | Time: 14.09s | Train Loss: 0.9967 | Val Loss: 0.6280 | Train Acc: 0.8223 | Val Acc: 0.8145\n",
            "Epoch 091 | Time: 14.11s | Train Loss: 0.9606 | Val Loss: 0.6481 | Train Acc: 0.8161 | Val Acc: 0.8061\n",
            "Epoch 100 | Time: 14.39s | Train Loss: 0.9452 | Val Loss: 0.6579 | Train Acc: 0.8077 | Val Acc: 0.8012\n"
          ]
        },
        {
          "output_type": "stream",
          "name": "stderr",
          "text": [
            "\n",
            "Cross-validation folds:  60%|██████    | 3/5 [43:47<29:00, 870.23s/it]\u001b[A"
          ]
        },
        {
          "output_type": "stream",
          "name": "stdout",
          "text": [
            "\n",
            "===========================Fold 3 Classification Report: =======================\n",
            "              precision    recall  f1-score   support\n",
            "\n",
            "           0       1.00      1.00      1.00        99\n",
            "           1       0.67      0.99      0.80        91\n",
            "           2       0.95      0.84      0.89        90\n",
            "           3       0.75      0.89      0.81        89\n",
            "           4       0.88      0.94      0.91        88\n",
            "           5       0.57      0.93      0.70        84\n",
            "           6       0.66      0.72      0.69        99\n",
            "           7       0.91      0.82      0.86       101\n",
            "           8       1.00      0.65      0.79        83\n",
            "           9       0.84      0.86      0.85        94\n",
            "          10       0.77      0.95      0.85        98\n",
            "          11       0.89      0.84      0.86        94\n",
            "          12       0.93      0.92      0.92       106\n",
            "          13       0.78      0.80      0.79        88\n",
            "          14       0.88      0.83      0.86        83\n",
            "          15       0.72      0.87      0.79       102\n",
            "          16       0.79      0.82      0.80        94\n",
            "          17       0.84      0.94      0.89        87\n",
            "          18       0.75      0.71      0.73        95\n",
            "          19       0.85      0.68      0.75       105\n",
            "          20       0.98      0.63      0.77        86\n",
            "          21       0.82      0.80      0.81        83\n",
            "          22       0.97      0.39      0.55        85\n",
            "          23       0.85      0.94      0.89       106\n",
            "          24       0.88      0.62      0.73        99\n",
            "          25       0.77      0.85      0.81        72\n",
            "          26       0.86      0.77      0.81        93\n",
            "          27       0.69      0.85      0.76        87\n",
            "          28       0.77      0.82      0.79       104\n",
            "          29       0.98      0.91      0.94        90\n",
            "          30       0.65      0.83      0.73       107\n",
            "          31       0.86      0.44      0.58       111\n",
            "          32       0.61      0.64      0.62        96\n",
            "\n",
            "    accuracy                           0.80      3089\n",
            "   macro avg       0.82      0.80      0.80      3089\n",
            "weighted avg       0.82      0.80      0.80      3089\n",
            "\n",
            "Fold 3 completed in 849.90 seconds\n",
            "Final validation accuracy: 0.8012\n",
            "\n",
            "=========================== Fold 4/5 ===========================================\n",
            "\n",
            "Epoch 001 | Time: 3.38s | Train Loss: 3.5142 | Val Loss: 3.4973 | Train Acc: 0.0316 | Val Acc: 0.0249\n",
            "Epoch 011 | Time: 3.50s | Train Loss: 3.5075 | Val Loss: 3.4986 | Train Acc: 0.0319 | Val Acc: 0.0240\n",
            "Epoch 021 | Time: 3.90s | Train Loss: 3.5063 | Val Loss: 3.4988 | Train Acc: 0.0319 | Val Acc: 0.0240\n",
            "Epoch 031 | Time: 3.90s | Train Loss: 3.5058 | Val Loss: 3.4989 | Train Acc: 0.0319 | Val Acc: 0.0240\n",
            "Epoch 041 | Time: 9.89s | Train Loss: 3.5058 | Val Loss: 3.4987 | Train Acc: 0.0319 | Val Acc: 0.0240\n",
            "Epoch 051 | Time: 11.50s | Train Loss: 3.5057 | Val Loss: 3.4988 | Train Acc: 0.0319 | Val Acc: 0.0240\n",
            "Epoch 061 | Time: 11.60s | Train Loss: 3.5058 | Val Loss: 3.4987 | Train Acc: 0.0319 | Val Acc: 0.0240\n",
            "Epoch 071 | Time: 13.90s | Train Loss: 3.5058 | Val Loss: 3.4987 | Train Acc: 0.0319 | Val Acc: 0.0240\n",
            "Epoch 081 | Time: 13.71s | Train Loss: 3.5057 | Val Loss: 3.4989 | Train Acc: 0.0319 | Val Acc: 0.0240\n",
            "Epoch 091 | Time: 13.90s | Train Loss: 3.5057 | Val Loss: 3.4989 | Train Acc: 0.0319 | Val Acc: 0.0240\n",
            "Epoch 100 | Time: 14.00s | Train Loss: 3.5058 | Val Loss: 3.4988 | Train Acc: 0.0319 | Val Acc: 0.0240\n"
          ]
        },
        {
          "output_type": "stream",
          "name": "stderr",
          "text": [
            "/usr/local/lib/python3.11/dist-packages/sklearn/metrics/_classification.py:1565: UndefinedMetricWarning: Precision is ill-defined and being set to 0.0 in labels with no predicted samples. Use `zero_division` parameter to control this behavior.\n",
            "  _warn_prf(average, modifier, f\"{metric.capitalize()} is\", len(result))\n",
            "/usr/local/lib/python3.11/dist-packages/sklearn/metrics/_classification.py:1565: UndefinedMetricWarning: Precision is ill-defined and being set to 0.0 in labels with no predicted samples. Use `zero_division` parameter to control this behavior.\n",
            "  _warn_prf(average, modifier, f\"{metric.capitalize()} is\", len(result))\n",
            "/usr/local/lib/python3.11/dist-packages/sklearn/metrics/_classification.py:1565: UndefinedMetricWarning: Precision is ill-defined and being set to 0.0 in labels with no predicted samples. Use `zero_division` parameter to control this behavior.\n",
            "  _warn_prf(average, modifier, f\"{metric.capitalize()} is\", len(result))\n",
            "\n",
            "Cross-validation folds:  80%|████████  | 4/5 [59:14<14:52, 892.72s/it]\u001b[A"
          ]
        },
        {
          "output_type": "stream",
          "name": "stdout",
          "text": [
            "\n",
            "===========================Fold 4 Classification Report: =======================\n",
            "              precision    recall  f1-score   support\n",
            "\n",
            "           0       0.00      0.00      0.00        94\n",
            "           1       0.00      0.00      0.00       108\n",
            "           2       0.00      0.00      0.00        88\n",
            "           3       0.00      0.00      0.00        96\n",
            "           4       0.00      0.00      0.00        97\n",
            "           5       0.00      0.00      0.00       104\n",
            "           6       0.00      0.00      0.00        85\n",
            "           7       0.00      0.00      0.00        92\n",
            "           8       0.00      0.00      0.00       104\n",
            "           9       0.00      0.00      0.00        86\n",
            "          10       0.00      0.00      0.00       101\n",
            "          11       0.00      0.00      0.00        85\n",
            "          12       0.00      0.00      0.00        94\n",
            "          13       0.00      0.00      0.00       100\n",
            "          14       0.00      0.00      0.00        99\n",
            "          15       0.00      0.00      0.00        89\n",
            "          16       0.00      0.00      0.00        91\n",
            "          17       0.00      0.00      0.00       111\n",
            "          18       0.00      0.00      0.00        85\n",
            "          19       0.00      0.00      0.00        93\n",
            "          20       0.00      0.00      0.00        90\n",
            "          21       0.00      0.00      0.00        95\n",
            "          22       0.00      0.00      0.00        89\n",
            "          23       0.02      1.00      0.05        74\n",
            "          24       0.00      0.00      0.00       101\n",
            "          25       0.00      0.00      0.00       107\n",
            "          26       0.00      0.00      0.00        95\n",
            "          27       0.00      0.00      0.00       102\n",
            "          28       0.00      0.00      0.00        88\n",
            "          29       0.00      0.00      0.00        86\n",
            "          30       0.00      0.00      0.00        88\n",
            "          31       0.00      0.00      0.00        77\n",
            "          32       0.00      0.00      0.00        95\n",
            "\n",
            "    accuracy                           0.02      3089\n",
            "   macro avg       0.00      0.03      0.00      3089\n",
            "weighted avg       0.00      0.02      0.00      3089\n",
            "\n",
            "Fold 4 completed in 927.19 seconds\n",
            "Final validation accuracy: 0.0240\n",
            "\n",
            "=========================== Fold 5/5 ===========================================\n",
            "\n",
            "Epoch 001 | Time: 3.29s | Train Loss: 3.5188 | Val Loss: 3.4977 | Train Acc: 0.0309 | Val Acc: 0.0272\n",
            "Epoch 011 | Time: 3.60s | Train Loss: 3.5072 | Val Loss: 3.5003 | Train Acc: 0.0316 | Val Acc: 0.0249\n",
            "Epoch 021 | Time: 3.60s | Train Loss: 3.5059 | Val Loss: 3.5004 | Train Acc: 0.0316 | Val Acc: 0.0249\n",
            "Epoch 031 | Time: 3.80s | Train Loss: 3.5056 | Val Loss: 3.5002 | Train Acc: 0.0316 | Val Acc: 0.0249\n",
            "Epoch 041 | Time: 8.20s | Train Loss: 3.5057 | Val Loss: 3.5002 | Train Acc: 0.0316 | Val Acc: 0.0249\n",
            "Epoch 051 | Time: 10.30s | Train Loss: 3.5056 | Val Loss: 3.5002 | Train Acc: 0.0316 | Val Acc: 0.0253\n",
            "Epoch 061 | Time: 10.81s | Train Loss: 3.5056 | Val Loss: 3.5002 | Train Acc: 0.0316 | Val Acc: 0.0253\n",
            "Epoch 071 | Time: 14.20s | Train Loss: 3.5057 | Val Loss: 3.5003 | Train Acc: 0.0316 | Val Acc: 0.0249\n",
            "Epoch 081 | Time: 14.49s | Train Loss: 3.5057 | Val Loss: 3.5003 | Train Acc: 0.0316 | Val Acc: 0.0249\n",
            "Epoch 091 | Time: 14.39s | Train Loss: 3.5056 | Val Loss: 3.5002 | Train Acc: 0.0316 | Val Acc: 0.0249\n",
            "Epoch 100 | Time: 13.99s | Train Loss: 3.5057 | Val Loss: 3.5002 | Train Acc: 0.0316 | Val Acc: 0.0253\n"
          ]
        },
        {
          "output_type": "stream",
          "name": "stderr",
          "text": [
            "/usr/local/lib/python3.11/dist-packages/sklearn/metrics/_classification.py:1565: UndefinedMetricWarning: Precision is ill-defined and being set to 0.0 in labels with no predicted samples. Use `zero_division` parameter to control this behavior.\n",
            "  _warn_prf(average, modifier, f\"{metric.capitalize()} is\", len(result))\n",
            "/usr/local/lib/python3.11/dist-packages/sklearn/metrics/_classification.py:1565: UndefinedMetricWarning: Precision is ill-defined and being set to 0.0 in labels with no predicted samples. Use `zero_division` parameter to control this behavior.\n",
            "  _warn_prf(average, modifier, f\"{metric.capitalize()} is\", len(result))\n",
            "/usr/local/lib/python3.11/dist-packages/sklearn/metrics/_classification.py:1565: UndefinedMetricWarning: Precision is ill-defined and being set to 0.0 in labels with no predicted samples. Use `zero_division` parameter to control this behavior.\n",
            "  _warn_prf(average, modifier, f\"{metric.capitalize()} is\", len(result))\n",
            "\n",
            "Cross-validation folds: 100%|██████████| 5/5 [1:14:20<00:00, 892.13s/it]\n",
            "Random Search:   6%|▋         | 1/16 [1:14:20<18:35:09, 4460.64s/it]"
          ]
        },
        {
          "output_type": "stream",
          "name": "stdout",
          "text": [
            "\n",
            "===========================Fold 5 Classification Report: =======================\n",
            "              precision    recall  f1-score   support\n",
            "\n",
            "           0       0.00      0.00      0.00       105\n",
            "           1       0.00      0.00      0.00        88\n",
            "           2       0.00      0.00      0.00        94\n",
            "           3       0.00      0.00      0.00        86\n",
            "           4       0.00      0.00      0.00       117\n",
            "           5       0.00      0.00      0.00        92\n",
            "           6       0.00      0.00      0.00        91\n",
            "           7       0.00      0.00      0.00        90\n",
            "           8       0.00      0.00      0.00        97\n",
            "           9       0.00      0.00      0.00       104\n",
            "          10       0.00      0.00      0.00       108\n",
            "          11       0.00      0.00      0.00        92\n",
            "          12       0.00      0.00      0.00        86\n",
            "          13       0.03      1.00      0.05        78\n",
            "          14       0.00      0.00      0.00        91\n",
            "          15       0.00      0.00      0.00        86\n",
            "          16       0.00      0.00      0.00        97\n",
            "          17       0.00      0.00      0.00        82\n",
            "          18       0.00      0.00      0.00        98\n",
            "          19       0.00      0.00      0.00        77\n",
            "          20       0.00      0.00      0.00        94\n",
            "          21       0.00      0.00      0.00       109\n",
            "          22       0.00      0.00      0.00        92\n",
            "          23       0.00      0.00      0.00        92\n",
            "          24       0.00      0.00      0.00        85\n",
            "          25       0.00      0.00      0.00        93\n",
            "          26       0.00      0.00      0.00        89\n",
            "          27       0.00      0.00      0.00        88\n",
            "          28       0.00      0.00      0.00        82\n",
            "          29       0.00      0.00      0.00       122\n",
            "          30       0.00      0.00      0.00        85\n",
            "          31       0.00      0.00      0.00        84\n",
            "          32       0.00      0.00      0.00       114\n",
            "\n",
            "    accuracy                           0.03      3088\n",
            "   macro avg       0.00      0.03      0.00      3088\n",
            "weighted avg       0.00      0.03      0.00      3088\n",
            "\n",
            "Fold 5 completed in 906.20 seconds\n",
            "Final validation accuracy: 0.0253\n",
            "\n",
            "=========================== Cross-Validation Summary ===========================\n",
            "Average final validation accuracy: 0.3408\n",
            "Metrics computed over 100 epochs\n",
            "\n",
            "Trial 2/16: {'learning_rate': 0.001, 'l2_lambda': 0.01, 'batch_size': 64, 'optimizer': 'sgd'}\n"
          ]
        },
        {
          "output_type": "stream",
          "name": "stderr",
          "text": [
            "\n",
            "Cross-validation folds:   0%|          | 0/5 [00:00<?, ?it/s]\u001b[A"
          ]
        },
        {
          "output_type": "stream",
          "name": "stdout",
          "text": [
            "\n",
            "=========================== Fold 1/5 ===========================================\n",
            "\n",
            "Epoch 001 | Time: 5.38s | Train Loss: 3.5521 | Val Loss: 3.4852 | Train Acc: 0.0308 | Val Acc: 0.0320\n",
            "Epoch 011 | Time: 4.40s | Train Loss: 3.4316 | Val Loss: 3.3835 | Train Acc: 0.0905 | Val Acc: 0.0936\n",
            "Epoch 021 | Time: 4.40s | Train Loss: 3.3358 | Val Loss: 3.2634 | Train Acc: 0.1063 | Val Acc: 0.1091\n",
            "Epoch 031 | Time: 4.49s | Train Loss: 3.2107 | Val Loss: 3.1400 | Train Acc: 0.1496 | Val Acc: 0.1564\n",
            "Epoch 041 | Time: 4.40s | Train Loss: 3.0480 | Val Loss: 2.9275 | Train Acc: 0.2028 | Val Acc: 0.2082\n",
            "Epoch 051 | Time: 4.10s | Train Loss: 2.8358 | Val Loss: 2.6690 | Train Acc: 0.3024 | Val Acc: 0.2962\n",
            "Epoch 061 | Time: 4.40s | Train Loss: 2.5840 | Val Loss: 2.4291 | Train Acc: 0.3727 | Val Acc: 0.3681\n",
            "Epoch 071 | Time: 4.40s | Train Loss: 2.3691 | Val Loss: 2.1340 | Train Acc: 0.4660 | Val Acc: 0.4694\n",
            "Epoch 081 | Time: 4.20s | Train Loss: 2.1953 | Val Loss: 1.9721 | Train Acc: 0.4710 | Val Acc: 0.4587\n",
            "Epoch 091 | Time: 4.30s | Train Loss: 2.0377 | Val Loss: 1.7587 | Train Acc: 0.5549 | Val Acc: 0.5380\n",
            "Epoch 100 | Time: 4.20s | Train Loss: 1.9112 | Val Loss: 1.5806 | Train Acc: 0.6004 | Val Acc: 0.5911\n",
            "\n",
            "===========================Fold 1 Classification Report: =======================\n"
          ]
        },
        {
          "output_type": "stream",
          "name": "stderr",
          "text": [
            "\n",
            "Cross-validation folds:  20%|██        | 1/5 [07:19<29:19, 439.79s/it]\u001b[A"
          ]
        },
        {
          "output_type": "stream",
          "name": "stdout",
          "text": [
            "              precision    recall  f1-score   support\n",
            "\n",
            "           0       1.00      1.00      1.00        90\n",
            "           1       0.38      0.92      0.54        93\n",
            "           2       0.73      0.78      0.76        93\n",
            "           3       0.34      0.77      0.47       101\n",
            "           4       0.41      0.91      0.56        85\n",
            "           5       0.37      0.54      0.44        80\n",
            "           6       0.68      0.63      0.65       102\n",
            "           7       0.79      0.66      0.72        83\n",
            "           8       0.63      0.73      0.68        83\n",
            "           9       0.32      0.64      0.43       109\n",
            "          10       0.76      0.66      0.70        76\n",
            "          11       0.72      0.46      0.56        95\n",
            "          12       0.94      0.32      0.47        95\n",
            "          13       0.50      0.77      0.61        93\n",
            "          14       0.72      0.29      0.42        89\n",
            "          15       0.93      0.14      0.25        90\n",
            "          16       0.88      0.82      0.85        96\n",
            "          17       0.73      0.87      0.80        95\n",
            "          18       0.59      0.72      0.65        93\n",
            "          19       0.49      0.95      0.65        99\n",
            "          20       0.97      0.33      0.49       104\n",
            "          21       0.64      0.38      0.47        98\n",
            "          22       0.75      0.14      0.24       105\n",
            "          23       0.88      0.43      0.58       100\n",
            "          24       0.78      0.63      0.70        99\n",
            "          25       0.84      0.30      0.44       103\n",
            "          26       0.89      0.73      0.80        81\n",
            "          27       0.75      0.51      0.61        98\n",
            "          28       0.50      0.78      0.61       105\n",
            "          29       0.94      0.92      0.93        88\n",
            "          30       0.73      0.50      0.59       103\n",
            "          31       0.42      0.16      0.23        95\n",
            "          32       0.39      0.16      0.22        70\n",
            "\n",
            "    accuracy                           0.59      3089\n",
            "   macro avg       0.68      0.59      0.58      3089\n",
            "weighted avg       0.68      0.59      0.58      3089\n",
            "\n",
            "Fold 1 completed in 439.79 seconds\n",
            "Final validation accuracy: 0.5911\n",
            "\n",
            "=========================== Fold 2/5 ===========================================\n",
            "\n",
            "Epoch 001 | Time: 4.07s | Train Loss: 3.5545 | Val Loss: 3.4933 | Train Acc: 0.0359 | Val Acc: 0.0382\n",
            "Epoch 011 | Time: 4.50s | Train Loss: 3.4298 | Val Loss: 3.3813 | Train Acc: 0.0880 | Val Acc: 0.0800\n",
            "Epoch 021 | Time: 4.20s | Train Loss: 3.3259 | Val Loss: 3.2852 | Train Acc: 0.0762 | Val Acc: 0.0699\n",
            "Epoch 031 | Time: 4.10s | Train Loss: 3.1966 | Val Loss: 3.1136 | Train Acc: 0.1784 | Val Acc: 0.1683\n",
            "Epoch 041 | Time: 4.20s | Train Loss: 3.0252 | Val Loss: 2.9138 | Train Acc: 0.2413 | Val Acc: 0.2224\n",
            "Epoch 051 | Time: 4.19s | Train Loss: 2.8085 | Val Loss: 2.7067 | Train Acc: 0.2552 | Val Acc: 0.2396\n",
            "Epoch 061 | Time: 4.20s | Train Loss: 2.5593 | Val Loss: 2.3990 | Train Acc: 0.3708 | Val Acc: 0.3467\n",
            "Epoch 071 | Time: 4.11s | Train Loss: 2.3456 | Val Loss: 2.1468 | Train Acc: 0.4629 | Val Acc: 0.4387\n",
            "Epoch 081 | Time: 4.30s | Train Loss: 2.1677 | Val Loss: 1.9812 | Train Acc: 0.4669 | Val Acc: 0.4377\n",
            "Epoch 091 | Time: 4.00s | Train Loss: 2.0116 | Val Loss: 1.7980 | Train Acc: 0.5097 | Val Acc: 0.5021\n",
            "Epoch 100 | Time: 4.30s | Train Loss: 1.9037 | Val Loss: 1.6420 | Train Acc: 0.5813 | Val Acc: 0.5520\n",
            "\n",
            "===========================Fold 2 Classification Report: =======================\n"
          ]
        },
        {
          "output_type": "stream",
          "name": "stderr",
          "text": [
            "\n",
            "Cross-validation folds:  40%|████      | 2/5 [14:26<21:35, 431.98s/it]\u001b[A"
          ]
        },
        {
          "output_type": "stream",
          "name": "stdout",
          "text": [
            "              precision    recall  f1-score   support\n",
            "\n",
            "           0       0.99      0.91      0.95        80\n",
            "           1       0.98      0.50      0.66        88\n",
            "           2       0.55      0.88      0.68       103\n",
            "           3       0.49      0.75      0.60        96\n",
            "           4       0.64      0.91      0.76        81\n",
            "           5       0.32      0.16      0.21       108\n",
            "           6       0.43      0.44      0.44        91\n",
            "           7       0.42      0.71      0.52       102\n",
            "           8       0.81      0.75      0.78       101\n",
            "           9       0.72      0.51      0.59        75\n",
            "          10       0.68      0.78      0.73        85\n",
            "          11       0.82      0.31      0.45       102\n",
            "          12       0.80      0.72      0.76        87\n",
            "          13       0.44      0.58      0.50       109\n",
            "          14       0.48      0.36      0.41       106\n",
            "          15       0.84      0.26      0.39       101\n",
            "          16       0.42      0.96      0.59        90\n",
            "          17       0.90      0.71      0.80        93\n",
            "          18       0.36      0.94      0.52        97\n",
            "          19       0.51      0.73      0.60        94\n",
            "          20       0.55      0.29      0.38        94\n",
            "          21       0.28      0.98      0.44        83\n",
            "          22       0.52      0.12      0.20        97\n",
            "          23       0.94      0.35      0.52        96\n",
            "          24       0.84      0.37      0.51        84\n",
            "          25       0.70      0.45      0.55        93\n",
            "          26       0.98      0.40      0.57       110\n",
            "          27       0.51      0.44      0.47        93\n",
            "          28       0.70      0.45      0.55        89\n",
            "          29       0.75      0.99      0.85        82\n",
            "          30       0.50      0.68      0.58        85\n",
            "          31       0.31      0.09      0.14       101\n",
            "          32       0.50      0.09      0.15        93\n",
            "\n",
            "    accuracy                           0.55      3089\n",
            "   macro avg       0.63      0.56      0.54      3089\n",
            "weighted avg       0.62      0.55      0.53      3089\n",
            "\n",
            "Fold 2 completed in 426.51 seconds\n",
            "Final validation accuracy: 0.5520\n",
            "\n",
            "=========================== Fold 3/5 ===========================================\n",
            "\n",
            "Epoch 001 | Time: 4.07s | Train Loss: 3.5529 | Val Loss: 3.4944 | Train Acc: 0.0332 | Val Acc: 0.0327\n",
            "Epoch 011 | Time: 4.30s | Train Loss: 3.4297 | Val Loss: 3.3805 | Train Acc: 0.1037 | Val Acc: 0.1046\n",
            "Epoch 021 | Time: 4.19s | Train Loss: 3.3165 | Val Loss: 3.2540 | Train Acc: 0.1297 | Val Acc: 0.1301\n",
            "Epoch 031 | Time: 4.20s | Train Loss: 3.1868 | Val Loss: 3.0910 | Train Acc: 0.1673 | Val Acc: 0.1641\n",
            "Epoch 041 | Time: 4.30s | Train Loss: 3.0138 | Val Loss: 2.9201 | Train Acc: 0.1749 | Val Acc: 0.1793\n",
            "Epoch 051 | Time: 4.30s | Train Loss: 2.7945 | Val Loss: 2.6449 | Train Acc: 0.3614 | Val Acc: 0.3493\n",
            "Epoch 061 | Time: 4.30s | Train Loss: 2.5512 | Val Loss: 2.3851 | Train Acc: 0.3684 | Val Acc: 0.3658\n",
            "Epoch 071 | Time: 4.40s | Train Loss: 2.3331 | Val Loss: 2.2992 | Train Acc: 0.2861 | Val Acc: 0.2648\n",
            "Epoch 081 | Time: 4.20s | Train Loss: 2.1607 | Val Loss: 1.8604 | Train Acc: 0.5529 | Val Acc: 0.5630\n",
            "Epoch 091 | Time: 4.30s | Train Loss: 2.0094 | Val Loss: 1.7035 | Train Acc: 0.5894 | Val Acc: 0.6012\n",
            "Epoch 100 | Time: 4.30s | Train Loss: 1.8974 | Val Loss: 1.6693 | Train Acc: 0.5472 | Val Acc: 0.5422\n",
            "\n",
            "===========================Fold 3 Classification Report: =======================\n"
          ]
        },
        {
          "output_type": "stream",
          "name": "stderr",
          "text": [
            "\n",
            "Cross-validation folds:  60%|██████    | 3/5 [21:30<14:17, 428.56s/it]\u001b[A"
          ]
        },
        {
          "output_type": "stream",
          "name": "stdout",
          "text": [
            "              precision    recall  f1-score   support\n",
            "\n",
            "           0       0.88      1.00      0.94        99\n",
            "           1       0.43      0.95      0.59        91\n",
            "           2       0.79      0.63      0.70        90\n",
            "           3       0.47      0.58      0.52        89\n",
            "           4       0.56      0.76      0.65        88\n",
            "           5       0.36      0.81      0.50        84\n",
            "           6       0.90      0.44      0.59        99\n",
            "           7       0.98      0.55      0.71       101\n",
            "           8       0.56      0.66      0.61        83\n",
            "           9       0.25      0.46      0.32        94\n",
            "          10       0.83      0.60      0.70        98\n",
            "          11       0.57      0.22      0.32        94\n",
            "          12       0.84      0.34      0.48       106\n",
            "          13       0.58      0.65      0.61        88\n",
            "          14       0.50      0.64      0.56        83\n",
            "          15       0.32      0.50      0.39       102\n",
            "          16       0.84      0.65      0.73        94\n",
            "          17       0.35      0.95      0.52        87\n",
            "          18       0.68      0.46      0.55        95\n",
            "          19       0.64      0.62      0.63       105\n",
            "          20       0.91      0.12      0.21        86\n",
            "          21       0.52      0.41      0.46        83\n",
            "          22       0.53      0.09      0.16        85\n",
            "          23       0.31      0.50      0.38       106\n",
            "          24       0.52      0.73      0.61        99\n",
            "          25       0.34      0.29      0.31        72\n",
            "          26       0.85      0.65      0.73        93\n",
            "          27       0.76      0.54      0.63        87\n",
            "          28       0.52      0.49      0.50       104\n",
            "          29       0.75      0.96      0.84        90\n",
            "          30       0.77      0.38      0.51       107\n",
            "          31       0.54      0.18      0.27       111\n",
            "          32       0.58      0.16      0.25        96\n",
            "\n",
            "    accuracy                           0.54      3089\n",
            "   macro avg       0.61      0.54      0.53      3089\n",
            "weighted avg       0.62      0.54      0.53      3089\n",
            "\n",
            "Fold 3 completed in 424.50 seconds\n",
            "Final validation accuracy: 0.5422\n",
            "\n",
            "=========================== Fold 4/5 ===========================================\n",
            "\n",
            "Epoch 001 | Time: 4.18s | Train Loss: 3.5569 | Val Loss: 3.5012 | Train Acc: 0.0401 | Val Acc: 0.0320\n",
            "Epoch 011 | Time: 4.30s | Train Loss: 3.4381 | Val Loss: 3.3928 | Train Acc: 0.0740 | Val Acc: 0.0728\n",
            "Epoch 021 | Time: 4.10s | Train Loss: 3.3486 | Val Loss: 3.3215 | Train Acc: 0.0957 | Val Acc: 0.0949\n",
            "Epoch 031 | Time: 4.10s | Train Loss: 3.2341 | Val Loss: 3.1736 | Train Acc: 0.1122 | Val Acc: 0.1114\n",
            "Epoch 041 | Time: 4.30s | Train Loss: 3.0871 | Val Loss: 2.9508 | Train Acc: 0.2495 | Val Acc: 0.2603\n",
            "Epoch 051 | Time: 4.20s | Train Loss: 2.9015 | Val Loss: 2.7541 | Train Acc: 0.3063 | Val Acc: 0.3156\n",
            "Epoch 061 | Time: 4.20s | Train Loss: 2.6659 | Val Loss: 2.4448 | Train Acc: 0.4124 | Val Acc: 0.4160\n",
            "Epoch 071 | Time: 4.10s | Train Loss: 2.4396 | Val Loss: 2.2062 | Train Acc: 0.4476 | Val Acc: 0.4480\n",
            "Epoch 081 | Time: 4.10s | Train Loss: 2.2567 | Val Loss: 2.0184 | Train Acc: 0.4876 | Val Acc: 0.4869\n",
            "Epoch 091 | Time: 4.40s | Train Loss: 2.0963 | Val Loss: 1.8140 | Train Acc: 0.5365 | Val Acc: 0.5342\n",
            "Epoch 100 | Time: 4.40s | Train Loss: 1.9684 | Val Loss: 1.6411 | Train Acc: 0.6344 | Val Acc: 0.6203\n",
            "\n",
            "===========================Fold 4 Classification Report: =======================\n"
          ]
        },
        {
          "output_type": "stream",
          "name": "stderr",
          "text": [
            "\n",
            "Cross-validation folds:  80%|████████  | 4/5 [28:37<07:07, 427.86s/it]\u001b[A"
          ]
        },
        {
          "output_type": "stream",
          "name": "stdout",
          "text": [
            "              precision    recall  f1-score   support\n",
            "\n",
            "           0       0.91      1.00      0.95        94\n",
            "           1       0.63      0.71      0.67       108\n",
            "           2       0.75      0.80      0.77        88\n",
            "           3       0.78      0.67      0.72        96\n",
            "           4       0.52      0.86      0.65        97\n",
            "           5       0.65      0.41      0.51       104\n",
            "           6       0.82      0.68      0.74        85\n",
            "           7       0.90      0.70      0.79        92\n",
            "           8       0.71      0.77      0.74       104\n",
            "           9       0.56      0.52      0.54        86\n",
            "          10       0.85      0.66      0.74       101\n",
            "          11       0.57      0.36      0.45        85\n",
            "          12       0.68      0.67      0.68        94\n",
            "          13       0.46      0.81      0.58       100\n",
            "          14       0.67      0.51      0.57        99\n",
            "          15       0.54      0.56      0.55        89\n",
            "          16       0.82      0.68      0.74        91\n",
            "          17       0.77      0.77      0.77       111\n",
            "          18       0.60      0.61      0.60        85\n",
            "          19       0.70      0.76      0.73        93\n",
            "          20       0.73      0.42      0.54        90\n",
            "          21       0.48      0.54      0.51        95\n",
            "          22       0.29      0.17      0.21        89\n",
            "          23       0.39      0.84      0.53        74\n",
            "          24       0.40      0.76      0.52       101\n",
            "          25       0.59      0.55      0.57       107\n",
            "          26       0.85      0.59      0.70        95\n",
            "          27       0.75      0.48      0.59       102\n",
            "          28       0.59      0.68      0.63        88\n",
            "          29       0.94      0.91      0.92        86\n",
            "          30       0.74      0.35      0.48        88\n",
            "          31       0.29      0.42      0.34        77\n",
            "          32       0.35      0.18      0.24        95\n",
            "\n",
            "    accuracy                           0.62      3089\n",
            "   macro avg       0.64      0.62      0.61      3089\n",
            "weighted avg       0.65      0.62      0.62      3089\n",
            "\n",
            "Fold 4 completed in 426.70 seconds\n",
            "Final validation accuracy: 0.6203\n",
            "\n",
            "=========================== Fold 5/5 ===========================================\n",
            "\n",
            "Epoch 001 | Time: 4.77s | Train Loss: 3.5535 | Val Loss: 3.4794 | Train Acc: 0.0338 | Val Acc: 0.0366\n",
            "Epoch 011 | Time: 4.20s | Train Loss: 3.4506 | Val Loss: 3.3925 | Train Acc: 0.0571 | Val Acc: 0.0586\n",
            "Epoch 021 | Time: 4.20s | Train Loss: 3.3789 | Val Loss: 3.3219 | Train Acc: 0.0882 | Val Acc: 0.0845\n",
            "Epoch 031 | Time: 4.20s | Train Loss: 3.2691 | Val Loss: 3.1806 | Train Acc: 0.1529 | Val Acc: 0.1499\n",
            "Epoch 041 | Time: 4.20s | Train Loss: 3.1330 | Val Loss: 3.0172 | Train Acc: 0.1607 | Val Acc: 0.1532\n",
            "Epoch 051 | Time: 4.30s | Train Loss: 2.9644 | Val Loss: 2.8341 | Train Acc: 0.1877 | Val Acc: 0.1736\n",
            "Epoch 061 | Time: 4.20s | Train Loss: 2.7492 | Val Loss: 2.5551 | Train Acc: 0.3485 | Val Acc: 0.3365\n",
            "Epoch 071 | Time: 4.20s | Train Loss: 2.5236 | Val Loss: 2.3226 | Train Acc: 0.4349 | Val Acc: 0.4343\n",
            "Epoch 081 | Time: 4.20s | Train Loss: 2.3260 | Val Loss: 2.0354 | Train Acc: 0.5185 | Val Acc: 0.5165\n",
            "Epoch 091 | Time: 4.30s | Train Loss: 2.1561 | Val Loss: 1.8715 | Train Acc: 0.5392 | Val Acc: 0.5476\n",
            "Epoch 100 | Time: 4.20s | Train Loss: 2.0162 | Val Loss: 1.7138 | Train Acc: 0.5371 | Val Acc: 0.5557\n"
          ]
        },
        {
          "output_type": "stream",
          "name": "stderr",
          "text": [
            "\n",
            "Cross-validation folds: 100%|██████████| 5/5 [35:42<00:00, 428.58s/it]\n",
            "Random Search:  12%|█▎        | 2/16 [1:50:03<12:02:41, 3097.26s/it]"
          ]
        },
        {
          "output_type": "stream",
          "name": "stdout",
          "text": [
            "\n",
            "===========================Fold 5 Classification Report: =======================\n",
            "              precision    recall  f1-score   support\n",
            "\n",
            "           0       0.98      0.98      0.98       105\n",
            "           1       0.98      0.62      0.76        88\n",
            "           2       0.66      0.90      0.77        94\n",
            "           3       0.29      0.59      0.39        86\n",
            "           4       0.78      0.71      0.74       117\n",
            "           5       0.43      0.61      0.50        92\n",
            "           6       0.71      0.24      0.36        91\n",
            "           7       0.46      0.57      0.51        90\n",
            "           8       0.71      0.76      0.74        97\n",
            "           9       0.55      0.25      0.34       104\n",
            "          10       0.67      0.67      0.67       108\n",
            "          11       0.63      0.18      0.29        92\n",
            "          12       0.89      0.69      0.78        86\n",
            "          13       0.44      0.74      0.55        78\n",
            "          14       0.33      0.55      0.41        91\n",
            "          15       0.75      0.35      0.48        86\n",
            "          16       0.30      0.98      0.46        97\n",
            "          17       0.81      0.68      0.74        82\n",
            "          18       0.62      0.72      0.67        98\n",
            "          19       0.36      0.78      0.49        77\n",
            "          20       0.94      0.16      0.27        94\n",
            "          21       0.37      0.94      0.53       109\n",
            "          22       0.40      0.04      0.08        92\n",
            "          23       0.82      0.29      0.43        92\n",
            "          24       0.85      0.46      0.60        85\n",
            "          25       0.44      0.32      0.37        93\n",
            "          26       0.85      0.49      0.62        89\n",
            "          27       0.57      0.51      0.54        88\n",
            "          28       0.77      0.45      0.57        82\n",
            "          29       0.87      0.98      0.92       122\n",
            "          30       0.72      0.58      0.64        85\n",
            "          31       0.39      0.26      0.31        84\n",
            "          32       0.64      0.06      0.11       114\n",
            "\n",
            "    accuracy                           0.56      3088\n",
            "   macro avg       0.64      0.55      0.53      3088\n",
            "weighted avg       0.64      0.56      0.54      3088\n",
            "\n",
            "Fold 5 completed in 425.30 seconds\n",
            "Final validation accuracy: 0.5557\n",
            "\n",
            "=========================== Cross-Validation Summary ===========================\n",
            "Average final validation accuracy: 0.5723\n",
            "Metrics computed over 100 epochs\n",
            "\n",
            "Trial 3/16: {'learning_rate': 0.01, 'l2_lambda': 0.001, 'batch_size': 32, 'optimizer': 'sgd'}\n"
          ]
        },
        {
          "output_type": "stream",
          "name": "stderr",
          "text": [
            "\n",
            "Cross-validation folds:   0%|          | 0/5 [00:00<?, ?it/s]\u001b[A"
          ]
        },
        {
          "output_type": "stream",
          "name": "stdout",
          "text": [
            "\n",
            "=========================== Fold 1/5 ===========================================\n",
            "\n",
            "Epoch 001 | Time: 2.78s | Train Loss: 3.4946 | Val Loss: 3.4931 | Train Acc: 0.0400 | Val Acc: 0.0460\n",
            "Epoch 011 | Time: 3.01s | Train Loss: 1.9796 | Val Loss: 2.5787 | Train Acc: 0.2830 | Val Acc: 0.2778\n",
            "Epoch 021 | Time: 3.01s | Train Loss: 1.4008 | Val Loss: 2.0424 | Train Acc: 0.4111 | Val Acc: 0.4150\n",
            "Epoch 031 | Time: 3.00s | Train Loss: 1.2122 | Val Loss: 1.1795 | Train Acc: 0.6223 | Val Acc: 0.6280\n",
            "Epoch 041 | Time: 2.80s | Train Loss: 1.0908 | Val Loss: 0.5443 | Train Acc: 0.8467 | Val Acc: 0.8443\n",
            "Epoch 051 | Time: 2.90s | Train Loss: 0.9811 | Val Loss: 0.8894 | Train Acc: 0.6881 | Val Acc: 0.6947\n",
            "Epoch 061 | Time: 2.80s | Train Loss: 0.9108 | Val Loss: 2.2337 | Train Acc: 0.4462 | Val Acc: 0.4438\n",
            "Epoch 071 | Time: 3.10s | Train Loss: 0.8867 | Val Loss: 0.4128 | Train Acc: 0.8892 | Val Acc: 0.8886\n",
            "Epoch 081 | Time: 3.00s | Train Loss: 0.8526 | Val Loss: 0.4536 | Train Acc: 0.8732 | Val Acc: 0.8673\n",
            "Epoch 091 | Time: 3.00s | Train Loss: 0.8214 | Val Loss: 1.2165 | Train Acc: 0.6292 | Val Acc: 0.6254\n",
            "Epoch 100 | Time: 3.00s | Train Loss: 0.7957 | Val Loss: 0.6388 | Train Acc: 0.7769 | Val Acc: 0.7773\n",
            "\n",
            "===========================Fold 1 Classification Report: =======================\n"
          ]
        },
        {
          "output_type": "stream",
          "name": "stderr",
          "text": [
            "\n",
            "Cross-validation folds:  20%|██        | 1/5 [04:53<19:34, 293.60s/it]\u001b[A"
          ]
        },
        {
          "output_type": "stream",
          "name": "stdout",
          "text": [
            "              precision    recall  f1-score   support\n",
            "\n",
            "           0       0.94      1.00      0.97        90\n",
            "           1       1.00      0.81      0.89        93\n",
            "           2       0.95      0.56      0.70        93\n",
            "           3       0.92      0.12      0.21       101\n",
            "           4       0.95      0.72      0.82        85\n",
            "           5       0.87      0.41      0.56        80\n",
            "           6       0.97      0.69      0.80       102\n",
            "           7       0.98      0.71      0.83        83\n",
            "           8       0.71      0.94      0.81        83\n",
            "           9       0.57      0.92      0.70       109\n",
            "          10       0.54      1.00      0.70        76\n",
            "          11       0.36      0.96      0.52        95\n",
            "          12       0.66      1.00      0.79        95\n",
            "          13       0.85      0.38      0.52        93\n",
            "          14       0.55      0.87      0.67        89\n",
            "          15       0.88      0.74      0.81        90\n",
            "          16       0.92      0.92      0.92        96\n",
            "          17       0.91      0.94      0.92        95\n",
            "          18       0.97      0.42      0.59        93\n",
            "          19       0.91      0.97      0.94        99\n",
            "          20       0.94      0.87      0.90       104\n",
            "          21       0.97      0.59      0.73        98\n",
            "          22       0.96      0.86      0.90       105\n",
            "          23       0.98      0.88      0.93       100\n",
            "          24       0.79      0.78      0.78        99\n",
            "          25       0.96      0.88      0.92       103\n",
            "          26       0.84      0.95      0.89        81\n",
            "          27       0.89      0.87      0.88        98\n",
            "          28       0.70      0.95      0.81       105\n",
            "          29       0.98      0.99      0.98        88\n",
            "          30       1.00      0.57      0.73       103\n",
            "          31       0.60      0.79      0.68        95\n",
            "          32       0.71      0.59      0.64        70\n",
            "\n",
            "    accuracy                           0.78      3089\n",
            "   macro avg       0.84      0.78      0.77      3089\n",
            "weighted avg       0.84      0.78      0.77      3089\n",
            "\n",
            "Fold 1 completed in 293.60 seconds\n",
            "Final validation accuracy: 0.7773\n",
            "\n",
            "=========================== Fold 2/5 ===========================================\n",
            "\n",
            "Epoch 001 | Time: 2.88s | Train Loss: 3.4975 | Val Loss: 3.5053 | Train Acc: 0.0496 | Val Acc: 0.0479\n",
            "Epoch 011 | Time: 3.10s | Train Loss: 1.9501 | Val Loss: 1.9831 | Train Acc: 0.3893 | Val Acc: 0.3830\n",
            "Epoch 021 | Time: 3.00s | Train Loss: 1.4188 | Val Loss: 3.1326 | Train Acc: 0.3625 | Val Acc: 0.3626\n",
            "Epoch 031 | Time: 3.20s | Train Loss: 1.1849 | Val Loss: 1.2076 | Train Acc: 0.6043 | Val Acc: 0.5937\n",
            "Epoch 041 | Time: 3.20s | Train Loss: 1.0435 | Val Loss: 1.5722 | Train Acc: 0.5323 | Val Acc: 0.5160\n",
            "Epoch 051 | Time: 3.10s | Train Loss: 1.0061 | Val Loss: 2.3111 | Train Acc: 0.4631 | Val Acc: 0.4726\n",
            "Epoch 061 | Time: 2.99s | Train Loss: 0.9384 | Val Loss: 3.3743 | Train Acc: 0.3501 | Val Acc: 0.3360\n",
            "Epoch 071 | Time: 3.00s | Train Loss: 0.8836 | Val Loss: 0.4199 | Train Acc: 0.8964 | Val Acc: 0.8851\n",
            "Epoch 081 | Time: 3.00s | Train Loss: 0.8499 | Val Loss: 0.6601 | Train Acc: 0.8032 | Val Acc: 0.7948\n",
            "Epoch 091 | Time: 3.19s | Train Loss: 0.7926 | Val Loss: 0.8169 | Train Acc: 0.7470 | Val Acc: 0.7349\n",
            "Epoch 100 | Time: 3.00s | Train Loss: 0.7928 | Val Loss: 1.4904 | Train Acc: 0.6475 | Val Acc: 0.6371\n",
            "\n",
            "===========================Fold 2 Classification Report: =======================\n"
          ]
        },
        {
          "output_type": "stream",
          "name": "stderr",
          "text": [
            "\n",
            "Cross-validation folds:  40%|████      | 2/5 [09:56<14:57, 299.13s/it]\u001b[A"
          ]
        },
        {
          "output_type": "stream",
          "name": "stdout",
          "text": [
            "              precision    recall  f1-score   support\n",
            "\n",
            "           0       1.00      0.21      0.35        80\n",
            "           1       0.81      0.90      0.85        88\n",
            "           2       0.63      0.77      0.69       103\n",
            "           3       0.63      0.94      0.75        96\n",
            "           4       0.89      0.96      0.92        81\n",
            "           5       0.89      0.38      0.53       108\n",
            "           6       0.40      0.87      0.54        91\n",
            "           7       0.91      0.61      0.73       102\n",
            "           8       0.94      0.57      0.71       101\n",
            "           9       0.66      0.77      0.71        75\n",
            "          10       0.31      1.00      0.47        85\n",
            "          11       1.00      0.19      0.31       102\n",
            "          12       0.94      0.71      0.81        87\n",
            "          13       0.46      0.74      0.57       109\n",
            "          14       1.00      0.58      0.74       106\n",
            "          15       0.93      0.26      0.40       101\n",
            "          16       0.62      0.96      0.75        90\n",
            "          17       1.00      0.49      0.66        93\n",
            "          18       0.66      0.69      0.68        97\n",
            "          19       0.40      0.81      0.54        94\n",
            "          20       0.65      0.87      0.74        94\n",
            "          21       0.36      0.86      0.51        83\n",
            "          22       0.97      0.62      0.75        97\n",
            "          23       1.00      0.54      0.70        96\n",
            "          24       0.45      0.75      0.57        84\n",
            "          25       0.79      0.90      0.84        93\n",
            "          26       0.95      0.65      0.77       110\n",
            "          27       0.68      0.67      0.67        93\n",
            "          28       0.78      0.66      0.72        89\n",
            "          29       1.00      0.01      0.02        82\n",
            "          30       0.92      0.76      0.83        85\n",
            "          31       0.89      0.40      0.55       101\n",
            "          32       0.86      0.06      0.12        93\n",
            "\n",
            "    accuracy                           0.64      3089\n",
            "   macro avg       0.77      0.64      0.62      3089\n",
            "weighted avg       0.77      0.64      0.62      3089\n",
            "\n",
            "Fold 2 completed in 303.00 seconds\n",
            "Final validation accuracy: 0.6371\n",
            "\n",
            "=========================== Fold 3/5 ===========================================\n",
            "\n",
            "Epoch 001 | Time: 2.78s | Train Loss: 3.4939 | Val Loss: 3.7019 | Train Acc: 0.0299 | Val Acc: 0.0320\n",
            "Epoch 011 | Time: 3.39s | Train Loss: 1.9735 | Val Loss: 2.2815 | Train Acc: 0.3643 | Val Acc: 0.3500\n",
            "Epoch 021 | Time: 3.20s | Train Loss: 1.3999 | Val Loss: 3.1941 | Train Acc: 0.2799 | Val Acc: 0.2732\n",
            "Epoch 031 | Time: 3.00s | Train Loss: 1.1711 | Val Loss: 0.8786 | Train Acc: 0.7554 | Val Acc: 0.7323\n",
            "Epoch 041 | Time: 2.99s | Train Loss: 1.0616 | Val Loss: 0.8892 | Train Acc: 0.7370 | Val Acc: 0.7184\n",
            "Epoch 051 | Time: 2.91s | Train Loss: 0.9669 | Val Loss: 0.8249 | Train Acc: 0.7474 | Val Acc: 0.7355\n",
            "Epoch 061 | Time: 3.00s | Train Loss: 0.9100 | Val Loss: 0.8608 | Train Acc: 0.7320 | Val Acc: 0.7345\n",
            "Epoch 071 | Time: 3.00s | Train Loss: 0.8469 | Val Loss: 0.7268 | Train Acc: 0.7964 | Val Acc: 0.7870\n",
            "Epoch 081 | Time: 3.20s | Train Loss: 0.8283 | Val Loss: 2.6766 | Train Acc: 0.4832 | Val Acc: 0.4730\n",
            "Epoch 091 | Time: 3.00s | Train Loss: 0.7735 | Val Loss: 5.1240 | Train Acc: 0.2472 | Val Acc: 0.2357\n",
            "Epoch 100 | Time: 2.80s | Train Loss: 0.7532 | Val Loss: 2.3634 | Train Acc: 0.4565 | Val Acc: 0.4387\n",
            "\n",
            "===========================Fold 3 Classification Report: =======================\n"
          ]
        },
        {
          "output_type": "stream",
          "name": "stderr",
          "text": [
            "\n",
            "Cross-validation folds:  60%|██████    | 3/5 [14:58<10:00, 300.30s/it]\u001b[A"
          ]
        },
        {
          "output_type": "stream",
          "name": "stdout",
          "text": [
            "              precision    recall  f1-score   support\n",
            "\n",
            "           0       0.97      0.97      0.97        99\n",
            "           1       0.34      0.98      0.51        91\n",
            "           2       0.82      0.10      0.18        90\n",
            "           3       0.81      0.15      0.25        89\n",
            "           4       0.90      0.20      0.33        88\n",
            "           5       0.34      0.93      0.50        84\n",
            "           6       0.94      0.17      0.29        99\n",
            "           7       1.00      0.67      0.80       101\n",
            "           8       0.36      0.84      0.51        83\n",
            "           9       0.36      0.46      0.41        94\n",
            "          10       1.00      0.34      0.50        98\n",
            "          11       0.32      0.50      0.39        94\n",
            "          12       1.00      0.12      0.22       106\n",
            "          13       1.00      0.05      0.09        88\n",
            "          14       0.78      0.76      0.77        83\n",
            "          15       0.30      0.71      0.42       102\n",
            "          16       0.96      0.29      0.44        94\n",
            "          17       0.10      1.00      0.18        87\n",
            "          18       0.81      0.65      0.72        95\n",
            "          19       1.00      0.04      0.07       105\n",
            "          20       0.98      0.51      0.67        86\n",
            "          21       0.92      0.14      0.25        83\n",
            "          22       0.80      0.78      0.79        85\n",
            "          23       0.94      0.16      0.27       106\n",
            "          24       0.62      0.15      0.24        99\n",
            "          25       0.78      0.75      0.77        72\n",
            "          26       0.76      0.81      0.78        93\n",
            "          27       0.91      0.34      0.50        87\n",
            "          28       0.73      0.34      0.46       104\n",
            "          29       0.95      0.82      0.88        90\n",
            "          30       0.71      0.09      0.17       107\n",
            "          31       0.80      0.04      0.07       111\n",
            "          32       1.00      0.06      0.12        96\n",
            "\n",
            "    accuracy                           0.44      3089\n",
            "   macro avg       0.76      0.45      0.44      3089\n",
            "weighted avg       0.76      0.44      0.43      3089\n",
            "\n",
            "Fold 3 completed in 301.69 seconds\n",
            "Final validation accuracy: 0.4387\n",
            "\n",
            "=========================== Fold 4/5 ===========================================\n",
            "\n",
            "Epoch 001 | Time: 2.78s | Train Loss: 3.4955 | Val Loss: 3.6069 | Train Acc: 0.0356 | Val Acc: 0.0350\n",
            "Epoch 011 | Time: 2.90s | Train Loss: 1.9109 | Val Loss: 1.6757 | Train Acc: 0.4512 | Val Acc: 0.4539\n",
            "Epoch 021 | Time: 2.90s | Train Loss: 1.3878 | Val Loss: 1.5711 | Train Acc: 0.4944 | Val Acc: 0.5005\n",
            "Epoch 031 | Time: 3.10s | Train Loss: 1.1714 | Val Loss: 4.0096 | Train Acc: 0.3002 | Val Acc: 0.3001\n",
            "Epoch 041 | Time: 3.00s | Train Loss: 1.0567 | Val Loss: 2.2321 | Train Acc: 0.4551 | Val Acc: 0.4522\n",
            "Epoch 051 | Time: 3.11s | Train Loss: 0.9747 | Val Loss: 2.8208 | Train Acc: 0.3906 | Val Acc: 0.3736\n",
            "Epoch 061 | Time: 3.10s | Train Loss: 0.9070 | Val Loss: 1.9558 | Train Acc: 0.5175 | Val Acc: 0.5105\n",
            "Epoch 071 | Time: 3.10s | Train Loss: 0.8722 | Val Loss: 2.6849 | Train Acc: 0.4308 | Val Acc: 0.4276\n",
            "Epoch 081 | Time: 3.10s | Train Loss: 0.8089 | Val Loss: 1.4775 | Train Acc: 0.6176 | Val Acc: 0.6167\n",
            "Epoch 091 | Time: 3.00s | Train Loss: 0.7827 | Val Loss: 0.5157 | Train Acc: 0.8439 | Val Acc: 0.8330\n",
            "Epoch 100 | Time: 3.10s | Train Loss: 0.7596 | Val Loss: 0.3973 | Train Acc: 0.9045 | Val Acc: 0.8977\n",
            "\n",
            "===========================Fold 4 Classification Report: =======================\n"
          ]
        },
        {
          "output_type": "stream",
          "name": "stderr",
          "text": [
            "\n",
            "Cross-validation folds:  80%|████████  | 4/5 [20:01<05:01, 301.33s/it]\u001b[A"
          ]
        },
        {
          "output_type": "stream",
          "name": "stdout",
          "text": [
            "              precision    recall  f1-score   support\n",
            "\n",
            "           0       0.99      0.98      0.98        94\n",
            "           1       0.94      0.98      0.96       108\n",
            "           2       0.86      0.93      0.90        88\n",
            "           3       0.90      0.88      0.89        96\n",
            "           4       0.94      1.00      0.97        97\n",
            "           5       0.85      0.84      0.84       104\n",
            "           6       0.92      0.89      0.90        85\n",
            "           7       0.76      0.97      0.85        92\n",
            "           8       0.99      0.82      0.89       104\n",
            "           9       0.93      0.92      0.92        86\n",
            "          10       0.93      0.98      0.95       101\n",
            "          11       0.97      0.82      0.89        85\n",
            "          12       0.97      0.99      0.98        94\n",
            "          13       0.78      0.92      0.84       100\n",
            "          14       0.96      0.76      0.85        99\n",
            "          15       0.96      0.73      0.83        89\n",
            "          16       0.80      0.97      0.88        91\n",
            "          17       0.97      0.88      0.92       111\n",
            "          18       0.94      0.96      0.95        85\n",
            "          19       0.90      0.99      0.94        93\n",
            "          20       0.94      0.97      0.95        90\n",
            "          21       0.82      0.98      0.89        95\n",
            "          22       0.87      0.94      0.90        89\n",
            "          23       0.93      0.96      0.95        74\n",
            "          24       1.00      0.76      0.87       101\n",
            "          25       0.87      0.93      0.90       107\n",
            "          26       0.92      0.89      0.91        95\n",
            "          27       0.97      0.87      0.92       102\n",
            "          28       0.83      0.80      0.81        88\n",
            "          29       1.00      0.97      0.98        86\n",
            "          30       0.88      0.76      0.82        88\n",
            "          31       0.79      0.77      0.78        77\n",
            "          32       0.72      0.82      0.77        95\n",
            "\n",
            "    accuracy                           0.90      3089\n",
            "   macro avg       0.90      0.90      0.90      3089\n",
            "weighted avg       0.90      0.90      0.90      3089\n",
            "\n",
            "Fold 4 completed in 302.90 seconds\n",
            "Final validation accuracy: 0.8977\n",
            "\n",
            "=========================== Fold 5/5 ===========================================\n",
            "\n",
            "Epoch 001 | Time: 2.80s | Train Loss: 3.4963 | Val Loss: 3.4636 | Train Acc: 0.0548 | Val Acc: 0.0541\n",
            "Epoch 011 | Time: 3.01s | Train Loss: 1.9521 | Val Loss: 2.6128 | Train Acc: 0.2604 | Val Acc: 0.2766\n",
            "Epoch 021 | Time: 2.90s | Train Loss: 1.3910 | Val Loss: 1.8256 | Train Acc: 0.4620 | Val Acc: 0.4696\n",
            "Epoch 031 | Time: 3.00s | Train Loss: 1.1956 | Val Loss: 2.6326 | Train Acc: 0.3629 | Val Acc: 0.3672\n",
            "Epoch 041 | Time: 3.10s | Train Loss: 1.0561 | Val Loss: 0.5300 | Train Acc: 0.8534 | Val Acc: 0.8559\n",
            "Epoch 051 | Time: 3.00s | Train Loss: 0.9790 | Val Loss: 5.9052 | Train Acc: 0.1500 | Val Acc: 0.1493\n",
            "Epoch 061 | Time: 3.10s | Train Loss: 0.9274 | Val Loss: 0.4499 | Train Acc: 0.8852 | Val Acc: 0.8837\n",
            "Epoch 071 | Time: 3.00s | Train Loss: 0.8532 | Val Loss: 0.8915 | Train Acc: 0.7144 | Val Acc: 0.7273\n",
            "Epoch 081 | Time: 2.99s | Train Loss: 0.8413 | Val Loss: 0.5350 | Train Acc: 0.8384 | Val Acc: 0.8345\n",
            "Epoch 091 | Time: 2.90s | Train Loss: 0.8204 | Val Loss: 1.2979 | Train Acc: 0.6162 | Val Acc: 0.6078\n",
            "Epoch 100 | Time: 2.90s | Train Loss: 0.7640 | Val Loss: 0.3645 | Train Acc: 0.9039 | Val Acc: 0.9032\n",
            "\n",
            "===========================Fold 5 Classification Report: =======================\n"
          ]
        },
        {
          "output_type": "stream",
          "name": "stderr",
          "text": [
            "\n",
            "Cross-validation folds: 100%|██████████| 5/5 [24:59<00:00, 299.94s/it]\n",
            "Random Search:  19%|█▉        | 3/16 [2:15:03<8:33:01, 2367.79s/it] "
          ]
        },
        {
          "output_type": "stream",
          "name": "stdout",
          "text": [
            "              precision    recall  f1-score   support\n",
            "\n",
            "           0       0.99      1.00      1.00       105\n",
            "           1       0.99      0.97      0.98        88\n",
            "           2       0.93      0.95      0.94        94\n",
            "           3       0.87      0.92      0.89        86\n",
            "           4       0.97      0.95      0.96       117\n",
            "           5       0.86      0.89      0.88        92\n",
            "           6       0.97      0.66      0.78        91\n",
            "           7       0.97      0.86      0.91        90\n",
            "           8       0.95      0.85      0.90        97\n",
            "           9       0.77      0.94      0.85       104\n",
            "          10       0.94      0.96      0.95       108\n",
            "          11       0.98      0.86      0.91        92\n",
            "          12       0.93      0.98      0.95        86\n",
            "          13       0.85      0.90      0.88        78\n",
            "          14       0.99      0.95      0.97        91\n",
            "          15       0.89      0.94      0.92        86\n",
            "          16       0.80      0.94      0.86        97\n",
            "          17       0.93      0.87      0.90        82\n",
            "          18       0.92      0.99      0.96        98\n",
            "          19       0.82      1.00      0.90        77\n",
            "          20       0.95      0.85      0.90        94\n",
            "          21       0.87      0.95      0.91       109\n",
            "          22       0.87      0.92      0.89        92\n",
            "          23       0.98      0.98      0.98        92\n",
            "          24       0.93      0.84      0.88        85\n",
            "          25       1.00      0.86      0.92        93\n",
            "          26       0.92      0.94      0.93        89\n",
            "          27       0.93      0.92      0.93        88\n",
            "          28       0.89      0.78      0.83        82\n",
            "          29       0.99      0.98      0.98       122\n",
            "          30       0.92      0.93      0.92        85\n",
            "          31       0.59      0.80      0.68        84\n",
            "          32       0.81      0.68      0.74       114\n",
            "\n",
            "    accuracy                           0.90      3088\n",
            "   macro avg       0.91      0.90      0.90      3088\n",
            "weighted avg       0.91      0.90      0.90      3088\n",
            "\n",
            "Fold 5 completed in 298.50 seconds\n",
            "Final validation accuracy: 0.9032\n",
            "\n",
            "=========================== Cross-Validation Summary ===========================\n",
            "Average final validation accuracy: 0.7308\n",
            "Metrics computed over 100 epochs\n",
            "\n",
            "Trial 4/16: {'learning_rate': 0.001, 'l2_lambda': 0.01, 'batch_size': 32, 'optimizer': 'adam'}\n"
          ]
        },
        {
          "output_type": "stream",
          "name": "stderr",
          "text": [
            "\n",
            "Cross-validation folds:   0%|          | 0/5 [00:00<?, ?it/s]\u001b[A"
          ]
        },
        {
          "output_type": "stream",
          "name": "stdout",
          "text": [
            "\n",
            "=========================== Fold 1/5 ===========================================\n",
            "\n",
            "Epoch 001 | Time: 3.48s | Train Loss: 3.5241 | Val Loss: 3.4117 | Train Acc: 0.0418 | Val Acc: 0.0466\n",
            "Epoch 011 | Time: 3.60s | Train Loss: 1.7713 | Val Loss: 1.3452 | Train Acc: 0.6057 | Val Acc: 0.5882\n",
            "Epoch 021 | Time: 3.80s | Train Loss: 1.5393 | Val Loss: 1.0515 | Train Acc: 0.6942 | Val Acc: 0.6879\n",
            "Epoch 031 | Time: 3.80s | Train Loss: 1.3553 | Val Loss: 0.8159 | Train Acc: 0.7867 | Val Acc: 0.7750\n",
            "Epoch 041 | Time: 9.01s | Train Loss: 1.2818 | Val Loss: 0.7867 | Train Acc: 0.7879 | Val Acc: 0.7770\n"
          ]
        }
      ],
      "source": [
        "# ===================== Random Search + CV Loop =======================\n",
        "\n",
        "for i in trange(n_iter, desc=\"Random Search\"):\n",
        "    params = random_param_combinations[i]\n",
        "    print(f\"\\nTrial {i + 1}/{n_iter}: {params}\")\n",
        "    avg_train_losses, avg_val_losses, avg_train_accuracies, avg_val_accuracies = k_fold_cross_validation(\n",
        "        X_train, y_train_one_hot, layer_sizes, k=5, epochs=100, **params, augment=True, verbose=2\n",
        "    )\n",
        "    final_val_accuracy = avg_val_accuracies[-1]\n",
        "    results.append({'trial': i + 1, 'params': params, 'final_val_accuracy': final_val_accuracy})\n",
        "    if final_val_accuracy > best_val_accuracy:\n",
        "        best_val_accuracy = final_val_accuracy\n",
        "        best_params = params"
      ]
    },
    {
      "cell_type": "code",
      "execution_count": null,
      "metadata": {
        "id": "yw0rwDnCpKZt"
      },
      "outputs": [],
      "source": [
        "# ===================== Result Summary & Best Pick ========================\n",
        "df = pd.DataFrame([\n",
        "    {\n",
        "        'Trial': r['trial'],\n",
        "        'learning_rate': r['params']['learning_rate'],\n",
        "        'l2_lambda': r['params']['l2_lambda'],\n",
        "        'batch_size': r['params']['batch_size'],\n",
        "        'optimizer': r['params']['optimizer'],\n",
        "        'val_accuracy': r['final_val_accuracy']\n",
        "    }\n",
        "    for r in results\n",
        "]).sort_values(by='val_accuracy', ascending=False).reset_index(drop=True)\n",
        "\n",
        "display(df)\n",
        "\n",
        "df.to_csv('rs_results_summary.csv', index=False)\n",
        "files.download('rs_results_summary.csv')\n"
      ]
    },
    {
      "cell_type": "code",
      "execution_count": null,
      "metadata": {
        "id": "WB8xgDA6NT7H"
      },
      "outputs": [],
      "source": [
        "# # ===================== Result Summary & Best Pick ========================\n",
        "# results_df = pd.DataFrame([\n",
        "#     {\n",
        "#         'Trial': r['trial'],\n",
        "#         'learning_rate': r['params']['learning_rate'],\n",
        "#         'l2_lambda': r['params']['l2_lambda'],\n",
        "#         'batch_size': r['params']['batch_size'],\n",
        "#         'optimizer': r['params']['optimizer'],\n",
        "#         'val_accuracy': r['final_val_accuracy']\n",
        "#     }\n",
        "#     for r in results\n",
        "# ]).sort_values(by='val_accuracy', ascending=False).reset_index(drop=True)\n",
        "\n",
        "# display(results_df)\n",
        "\n",
        "# results_df.to_csv('rs_results_summary.csv', index=False)\n",
        "# files.download('rs_results_summary.csv')"
      ]
    },
    {
      "cell_type": "code",
      "execution_count": null,
      "metadata": {
        "id": "fvVIAm0F_Ikg"
      },
      "outputs": [],
      "source": [
        "# ========== Save best parameters and best validation accuracy + layer_sizes ==========\n",
        "with open(\"random_search_results.json\", \"w\") as f:\n",
        "    json.dump({\n",
        "        \"best_params\": best_params,\n",
        "        \"best_val_accuracy\": best_val_accuracy,\n",
        "        \"layer_sizes\": layer_sizes\n",
        "    }, f)\n",
        "\n",
        "files.download(\"random_search_results.json\")\n"
      ]
    },
    {
      "cell_type": "markdown",
      "metadata": {
        "id": "r7aCNiSzbIte"
      },
      "source": [
        "## **Perform k-fold cross-validation with SGD & Adam**\n"
      ]
    },
    {
      "cell_type": "code",
      "execution_count": null,
      "metadata": {
        "id": "qUS9lshLz9rx"
      },
      "outputs": [],
      "source": [
        "# =================== Load saved random_search_results.json file ================\n",
        "with open(\"random_search_results.json\", \"r\") as f:\n",
        "    data = json.load(f)\n",
        "    best_params = data[\"best_params\"]\n",
        "    layer_sizes = data[\"layer_sizes\"]\n",
        "    best_val_accuracy = data[\"best_val_accuracy\"]\n",
        "\n",
        "learning_rate = best_params['learning_rate']\n",
        "l2_lambda = best_params['l2_lambda']\n",
        "batch_size = best_params['batch_size']\n",
        "optimizer = best_params['optimizer']"
      ]
    },
    {
      "cell_type": "markdown",
      "metadata": {
        "id": "aJdGcyCzcKNE"
      },
      "source": [
        "### **9.1.Perform k-fold cross-validation with SGD**"
      ]
    },
    {
      "cell_type": "code",
      "execution_count": null,
      "metadata": {
        "id": "rKS9X6amwiqr"
      },
      "outputs": [],
      "source": [
        "# Perform k-fold cross-validation with SGD\n",
        "print(\"\\n========================= K-Fold Cross-Validation with SGD (Augmented): ===========================\")\n",
        "avg_train_losses_sgd, avg_val_losses_sgd, avg_train_accuracies_sgd, avg_val_accuracies_sgd = k_fold_cross_validation(\n",
        "    X_train, y_train_one_hot, layer_sizes, k=5, epochs=100, batch_size=batch_size, learning_rate=learning_rate, l2_lambda=l2_lambda, optimizer='sgd', augment=True,\n",
        ")\n"
      ]
    },
    {
      "cell_type": "code",
      "execution_count": null,
      "metadata": {
        "id": "F1uiHWBGxIf1"
      },
      "outputs": [],
      "source": [
        "print(\"\\nK-Fold Cross-Validation with Adam (Augmented):\")\n",
        "avg_train_losses_adam, avg_val_losses_adam, avg_train_accuracies_adam, avg_val_accuracies_adam = k_fold_cross_validation(\n",
        "    X_train, y_train_one_hot, layer_sizes, k=5, epochs=100, batch_size=batch_size, learning_rate=learning_rate, l2_lambda=l2_lambda, optimizer='adam', augment=True\n",
        ")"
      ]
    },
    {
      "cell_type": "code",
      "execution_count": null,
      "metadata": {
        "id": "Lmcor1CdxJc6"
      },
      "outputs": [],
      "source": [
        "# Ploting k-fold Cross-Validation Results (with SGD & Adam)\n",
        "fig, (ax1, ax2) = plt.subplots(1, 2, figsize=(12, 5))\n",
        "ax1.plot(avg_train_losses_sgd, label='Train Loss SGD')\n",
        "ax1.plot(avg_val_losses_sgd, label='Val Loss SGD')\n",
        "ax1.plot(avg_train_losses_adam, label='Train Loss Adam')\n",
        "ax1.plot(avg_val_losses_adam, label='Val Loss Adam')\n",
        "ax1.set_title('Average Loss (K-Fold)')\n",
        "ax1.set_xlabel('Epoch')\n",
        "ax1.set_ylabel('Loss')\n",
        "ax1.legend()\n",
        "ax2.plot(avg_train_accuracies_sgd, label='Train Acc SGD')\n",
        "ax2.plot(avg_val_accuracies_sgd, label='Val Acc SGD')\n",
        "ax2.plot(avg_train_accuracies_adam, label='Train Acc Adam')\n",
        "ax2.plot(avg_val_accuracies_adam, label='Val Acc Adam')\n",
        "ax2.set_title('Average Accuracy (K-Fold)')\n",
        "ax2.set_xlabel('Epoch')\n",
        "ax2.set_ylabel('Accuracy')\n",
        "ax2.legend()\n",
        "plt.tight_layout()\n",
        "plt.savefig('kfold_loss_accuracy_sgd_adam.png')\n",
        "files.download('kfold_loss_accuracy_sgd_adam.png')\n",
        "# plt.close()"
      ]
    },
    {
      "cell_type": "code",
      "execution_count": null,
      "metadata": {
        "id": "5up1JcVrWVPY"
      },
      "outputs": [],
      "source": [
        "# =================== Load saved random_search_results.json file ================\n",
        "with open(\"random_search_results.json\", \"r\") as f:\n",
        "    data = json.load(f)\n",
        "    best_params = data[\"best_params\"]\n",
        "    layer_sizes = data[\"layer_sizes\"]\n",
        "    best_val_accuracy = data[\"best_val_accuracy\"]\n",
        "\n",
        "learning_rate = best_params['learning_rate']\n",
        "l2_lambda = best_params['l2_lambda']\n",
        "batch_size = best_params['batch_size']\n",
        "optimizer = best_params['optimizer']"
      ]
    },
    {
      "cell_type": "markdown",
      "metadata": {
        "id": "8Rf3QaJZp_yE"
      },
      "source": [
        "## **10.Train final model with Best parameters on full train+val set:**\n",
        "\n",
        "\n",
        "*   Train models on combined train+val set, evaluate on test set, with and without augmentation.\n",
        "*   Note: We combine `X_train` and `X_val` into `X_train_val` to maximize training data (~ 18,532 samples) for the final model,after hyperparameter tuning. A new 10% validation set is split from `X_train_val` for early stopping to avoid using `X_test`."
      ]
    },
    {
      "cell_type": "code",
      "execution_count": null,
      "metadata": {
        "id": "u1NKAYqdqOGR"
      },
      "outputs": [],
      "source": [
        "# print(f\"\"\"## **10.Train final model with Best parameters on full train+val set:**\n",
        "\n",
        "\n",
        "# *   Train models on combined train+val set, evaluate on test set, with and without augmentation.\n",
        "# *   Note: We combine `X_train` and `X_val` into `X_train_val` to maximize training data (~ {X_train_final.shape[0]} samples) for the final model,after hyperparameter tuning. A new 10% validation set is split from `X_train_val` for early stopping to avoid using `X_test`.\"\"\")"
      ]
    },
    {
      "cell_type": "code",
      "execution_count": null,
      "metadata": {
        "id": "27j2tVf5HVq7"
      },
      "outputs": [],
      "source": [
        "\n",
        "X_train_val = np.concatenate([X_train, X_val])\n",
        "y_train_val_one_hot = np.concatenate([y_train_one_hot, y_val_one_hot])\n",
        "\n",
        "# Split a new validation set from X_train_val\n",
        "X_train_final, X_val_final, y_train_final_one_hot, y_val_final_one_hot = train_test_split(\n",
        "    X_train_val, y_train_val_one_hot, test_size=0.1, stratify=np.argmax(y_train_val_one_hot, axis=1), random_state=42\n",
        ")\n",
        "print(f\"Final Train: {X_train_final.shape[0]}, Final Val: {X_val_final.shape[0]}, Test: {X_test.shape[0]}\")\n"
      ]
    },
    {
      "cell_type": "markdown",
      "metadata": {
        "id": "Q2QEkaaDWbIV"
      },
      "source": [
        "### **Case 1:  No Augmentation**"
      ]
    },
    {
      "cell_type": "code",
      "execution_count": null,
      "metadata": {
        "id": "iubOnS90WC0E"
      },
      "outputs": [],
      "source": [
        "# Case 1: No Augmentation\n",
        "nn = MulticlassNeuralNetwork(layer_sizes, learning_rate=best_params['learning_rate'],\n",
        "                             l2_lambda=best_params['l2_lambda'], optimizer=best_params['optimizer'])\n",
        "train_losses, val_losses, train_accuracies, val_accuracies = nn.train(\n",
        "    X_train_final, y_train_final_one_hot, X_val_final, y_val_final_one_hot, epochs=100,\n",
        "    batch_size=best_params['batch_size'], augment=False, early_stopping=True, verbose=2\n",
        ")\n"
      ]
    },
    {
      "cell_type": "code",
      "execution_count": null,
      "metadata": {
        "id": "112B9NP4NN5W"
      },
      "outputs": [],
      "source": [
        "y_pred = nn.predict(X_test)\n",
        "print(\"\\nTest Set Classification Report (No Augmentation):\")\n",
        "print(classification_report(np.argmax(y_test_one_hot, axis=1), y_pred, target_names=label_encoder.classes_))\n",
        "\n",
        "test_accuracy = np.mean(y_pred == np.argmax(y_test_one_hot, axis=1))\n",
        "print(f\"Test Accuracy (No Augmentation): {test_accuracy:.4f}\")"
      ]
    },
    {
      "cell_type": "code",
      "execution_count": null,
      "metadata": {
        "id": "NJAKpoVqW-T7"
      },
      "outputs": [],
      "source": [
        "cm = confusion_matrix(np.argmax(y_test_one_hot, axis=1), y_pred)\n",
        "plt.figure(figsize=(12, 10))\n",
        "sns.heatmap(cm, annot=True, fmt='d', cmap='Blues', xticklabels=label_encoder.classes_, yticklabels=label_encoder.classes_)\n",
        "plt.title('Confusion Matrix (No Augmentation)')\n",
        "plt.xlabel('Predicted')\n",
        "plt.ylabel('True')\n",
        "plt.savefig('confusion_matrix_no_aug.png')\n",
        "files.download('confusion_matrix_no_aug.png')\n",
        "# plt.close()\n"
      ]
    },
    {
      "cell_type": "code",
      "execution_count": null,
      "metadata": {
        "id": "c0LetlG5XAGu"
      },
      "outputs": [],
      "source": [
        "fig, (ax1, ax2) = plt.subplots(1, 2, figsize=(12, 5))\n",
        "ax1.plot(train_losses, label='Train Loss')\n",
        "ax1.plot(val_losses, label='Validation Loss')\n",
        "ax1.set_title('Loss Curve (No Augmentation)')\n",
        "ax1.set_xlabel('Epoch')\n",
        "ax1.set_ylabel('Loss')\n",
        "ax1.legend()\n",
        "ax2.plot(train_accuracies, label='Train Accuracy')\n",
        "ax2.plot(val_accuracies, label='Validation Accuracy')\n",
        "ax2.set_title('Accuracy Curve (No Augmentation)')\n",
        "ax2.set_xlabel('Epoch')\n",
        "ax2.set_ylabel('Accuracy')\n",
        "ax2.legend()\n",
        "plt.tight_layout()\n",
        "plt.savefig('loss_accuracy_no_aug.png')\n",
        "files.download('loss_accuracy_no_aug.png')\n",
        "# plt.close()\n"
      ]
    },
    {
      "cell_type": "markdown",
      "metadata": {
        "id": "BVVNVU97WhpX"
      },
      "source": [
        "### **Case 2:  With Augmentation**"
      ]
    },
    {
      "cell_type": "code",
      "execution_count": null,
      "metadata": {
        "id": "yn5Eol6rWGkv"
      },
      "outputs": [],
      "source": [
        "# Case 2: With Augmentation\n",
        "nn_aug = MulticlassNeuralNetwork(layer_sizes, learning_rate=best_params['learning_rate'],\n",
        "                                 l2_lambda=best_params['l2_lambda'], optimizer=best_params['optimizer'])\n",
        "train_losses_aug, val_losses_aug, train_accuracies_aug, val_accuracies_aug = nn_aug.train(\n",
        "    X_train_final, y_train_final_one_hot, X_val_final, y_val_final_one_hot, epochs=100,\n",
        "    batch_size=best_params['batch_size'], augment=True, early_stopping=True\n",
        ")\n"
      ]
    },
    {
      "cell_type": "code",
      "execution_count": null,
      "metadata": {
        "id": "p3Kh3Vy4NVHI"
      },
      "outputs": [],
      "source": [
        "y_pred_aug = nn_aug.predict(X_test)\n",
        "print(\"\\nTest Set Classification Report (With Augmentation):\")\n",
        "print(classification_report(np.argmax(y_test_one_hot, axis=1), y_pred_aug, target_names=label_encoder.classes_))\n",
        "\n",
        "test_accuracy_aug = np.mean(y_pred_aug == np.argmax(y_test_one_hot, axis=1))\n",
        "print(f\"Test Accuracy (With Augmentation): {test_accuracy_aug:.4f}\")"
      ]
    },
    {
      "cell_type": "code",
      "execution_count": null,
      "metadata": {
        "id": "wB0XDL0JW4Ul"
      },
      "outputs": [],
      "source": [
        "cm_aug = confusion_matrix(np.argmax(y_test_one_hot, axis=1), y_pred_aug)\n",
        "plt.figure(figsize=(12, 10))\n",
        "sns.heatmap(cm_aug, annot=True, fmt='d', cmap='Blues', xticklabels=label_encoder.classes_, yticklabels=label_encoder.classes_)\n",
        "plt.title('Confusion Matrix (With Augmentation)')\n",
        "plt.xlabel('Predicted')\n",
        "plt.ylabel('True')\n",
        "plt.savefig('confusion_matrix_with_aug.png')\n",
        "files.download('confusion_matrix_with_aug.png')\n",
        "# plt.close()\n"
      ]
    },
    {
      "cell_type": "code",
      "execution_count": null,
      "metadata": {
        "id": "vI0UXru7W6KS"
      },
      "outputs": [],
      "source": [
        "fig, (ax1, ax2) = plt.subplots(1, 2, figsize=(12, 5))\n",
        "ax1.plot(train_losses_aug, label='Train Loss')\n",
        "ax1.plot(val_losses_aug, label='Validation Loss')\n",
        "ax1.set_title('Loss Curve (With Augmentation)')\n",
        "ax1.set_xlabel('Epoch')\n",
        "ax1.set_ylabel('Loss')\n",
        "ax1.legend()\n",
        "ax2.plot(train_accuracies_aug, label='Train Accuracy')\n",
        "ax2.plot(val_accuracies_aug, label='Validation Accuracy')\n",
        "ax2.set_title('Accuracy Curve (With Augmentation)')\n",
        "ax2.set_xlabel('Epoch')\n",
        "ax2.set_ylabel('Accuracy')\n",
        "ax2.legend()\n",
        "plt.tight_layout()\n",
        "plt.savefig('loss_accuracy_with_aug.png')\n",
        "files.download('loss_accuracy_with_aug.png')\n",
        "# plt.close()\n"
      ]
    },
    {
      "cell_type": "markdown",
      "metadata": {
        "id": "l5e-ipofzKYJ"
      },
      "source": [
        "## **11.Alternative: Train on X_train only, use X_val for early stopping**\n",
        "This section trains the model on `X_train` (~ 16,908 samples) with `X_val` (~ 5,637 samples) for early stopping to compare against the main approach (`X_train_val` with a 10% validation split)."
      ]
    },
    {
      "cell_type": "markdown",
      "metadata": {
        "id": "i17UCaJ90YVe"
      },
      "source": [
        "### **Case 1:  No Augmentation (Alternative)**"
      ]
    },
    {
      "cell_type": "code",
      "execution_count": null,
      "metadata": {
        "id": "uLc-4obdKnJ5"
      },
      "outputs": [],
      "source": [
        "# Case 1: No Augmentation (Alternative)\n",
        "nn_alt = MulticlassNeuralNetwork(layer_sizes, learning_rate=best_params['learning_rate'],\n",
        "                                 l2_lambda=best_params['l2_lambda'], optimizer=best_params['optimizer'])\n",
        "train_losses_alt, val_losses_alt, train_accuracies_alt, val_accuracies_alt = nn_alt.train(\n",
        "    X_train, y_train_one_hot, X_val, y_val_one_hot, epochs=100,\n",
        "    batch_size=best_params['batch_size'], augment=False, early_stopping=True, verbose=2\n",
        ")"
      ]
    },
    {
      "cell_type": "code",
      "execution_count": null,
      "metadata": {
        "id": "YyVJODVaOIcs"
      },
      "outputs": [],
      "source": [
        "y_pred_alt = nn_alt.predict(X_test)\n",
        "print(\"\\nTest Set Classification Report (No Augmentation, Alternative):\")\n",
        "print(classification_report(np.argmax(y_test_one_hot, axis=1), y_pred_alt, target_names=label_encoder.classes_))\n",
        "\n",
        "test_accuracy_alt = np.mean(y_pred_alt == np.argmax(y_test_one_hot, axis=1))\n",
        "print(f\"Test Accuracy (No Augmentation, Alternative): {test_accuracy_alt:.4f}\")"
      ]
    },
    {
      "cell_type": "code",
      "execution_count": null,
      "metadata": {
        "id": "GWcQBJdi0AZy"
      },
      "outputs": [],
      "source": [
        "cm_alt = confusion_matrix(np.argmax(y_test_one_hot, axis=1), y_pred_alt)\n",
        "plt.figure(figsize=(12, 10))\n",
        "sns.heatmap(cm_alt, annot=True, fmt='d', cmap='Blues', xticklabels=label_encoder.classes_, yticklabels=label_encoder.classes_)\n",
        "plt.title('Confusion Matrix (No Augmentation, Alternative)')\n",
        "plt.xlabel('Predicted')\n",
        "plt.ylabel('True')\n",
        "plt.savefig('confusion_matrix_no_aug_alt.png')\n",
        "files.download('confusion_matrix_no_aug_alt.png')\n",
        "# plt.close()"
      ]
    },
    {
      "cell_type": "code",
      "execution_count": null,
      "metadata": {
        "id": "bc0ytqlJ0AND"
      },
      "outputs": [],
      "source": [
        "fig, (ax1, ax2) = plt.subplots(1, 2, figsize=(12, 5))\n",
        "ax1.plot(train_losses_alt, label='Train Loss')\n",
        "ax1.plot(val_losses_alt, label='Validation Loss')\n",
        "ax1.set_title('Loss Curve (No Augmentation, Alternative)')\n",
        "ax1.set_xlabel('Epoch')\n",
        "ax1.set_ylabel('Loss')\n",
        "ax1.legend()\n",
        "ax2.plot(train_accuracies_alt, label='Train Accuracy')\n",
        "ax2.plot(val_accuracies_alt, label='Validation Accuracy')\n",
        "ax2.set_title('Accuracy Curve (No Augmentation, Alternative)')\n",
        "ax2.set_xlabel('Epoch')\n",
        "ax2.set_ylabel('Accuracy')\n",
        "ax2.legend()\n",
        "plt.tight_layout()\n",
        "plt.savefig('loss_accuracy_no_aug_alt.png')\n",
        "files.download('loss_accuracy_no_aug_alt.png')\n",
        "# plt.close()"
      ]
    },
    {
      "cell_type": "markdown",
      "metadata": {
        "id": "hw6j11lq0msf"
      },
      "source": [
        "### **Case 2:  With Augmentation (Alternative)**"
      ]
    },
    {
      "cell_type": "code",
      "execution_count": null,
      "metadata": {
        "id": "IT3ajUNo0L3x"
      },
      "outputs": [],
      "source": [
        "# Case 2: With Augmentation (Alternative)\n",
        "nn_aug_alt = MulticlassNeuralNetwork(layer_sizes, learning_rate=best_params['learning_rate'],\n",
        "                                     l2_lambda=best_params['l2_lambda'], optimizer=best_params['optimizer'])\n",
        "train_losses_aug_alt, val_losses_aug_alt, train_accuracies_aug_alt, val_accuracies_aug_alt = nn_aug_alt.train(\n",
        "    X_train, y_train_one_hot, X_val, y_val_one_hot, epochs=100,\n",
        "    batch_size=best_params['batch_size'], augment=True, early_stopping=True\n",
        ")"
      ]
    },
    {
      "cell_type": "code",
      "execution_count": null,
      "metadata": {
        "id": "sY6G2S-p0L0Y"
      },
      "outputs": [],
      "source": [
        "y_pred_aug_alt = nn_aug_alt.predict(X_test)\n",
        "print(\"\\nTest Set Classification Report (With Augmentation, Alternative):\")\n",
        "print(classification_report(np.argmax(y_test_one_hot, axis=1), y_pred_aug_alt, target_names=label_encoder.classes_))\n",
        "\n",
        "test_accuracy_aug_alt = np.mean(y_pred_aug_alt == np.argmax(y_test_one_hot, axis=1))\n",
        "print(f\"Test Accuracy (With Augmentation, Alternative): {test_accuracy_aug_alt:.4f}\")"
      ]
    },
    {
      "cell_type": "code",
      "execution_count": null,
      "metadata": {
        "id": "WBn9550A06zH"
      },
      "outputs": [],
      "source": [
        "cm_aug_alt = confusion_matrix(np.argmax(y_test_one_hot, axis=1), y_pred_aug_alt)\n",
        "plt.figure(figsize=(12, 10))\n",
        "sns.heatmap(cm_aug_alt, annot=True, fmt='d', cmap='Blues', xticklabels=label_encoder.classes_, yticklabels=label_encoder.classes_)\n",
        "plt.title('Confusion Matrix (With Augmentation, Alternative)')\n",
        "plt.xlabel('Predicted')\n",
        "plt.ylabel('True')\n",
        "plt.savefig('confusion_matrix_with_aug_alt.png')\n",
        "files.download('confusion_matrix_with_aug_alt.png')\n",
        "# plt.close()"
      ]
    },
    {
      "cell_type": "code",
      "execution_count": null,
      "metadata": {
        "id": "CpC5jkmlOZzt"
      },
      "outputs": [],
      "source": [
        "fig, (ax1, ax2) = plt.subplots(1, 2, figsize=(12, 5))\n",
        "ax1.plot(train_losses_aug_alt, label='Train Loss')\n",
        "ax1.plot(val_losses_aug_alt, label='Validation Loss')\n",
        "ax1.set_title('Loss Curve (With Augmentation, Alternative)')\n",
        "ax1.set_xlabel('Epoch')\n",
        "ax1.set_ylabel('Loss')\n",
        "ax1.legend()\n",
        "ax2.plot(train_accuracies_aug_alt, label='Train Accuracy')\n",
        "ax2.plot(val_accuracies_aug_alt, label='Validation Accuracy')\n",
        "ax2.set_title('Accuracy Curve (With Augmentation, Alternative)')\n",
        "ax2.set_xlabel('Epoch')\n",
        "ax2.set_ylabel('Accuracy')\n",
        "ax2.legend()\n",
        "plt.tight_layout()\n",
        "plt.savefig('loss_accuracy_with_aug_alt.png')\n",
        "files.download('loss_accuracy_with_aug_alt.png')\n",
        "# plt.close()"
      ]
    },
    {
      "cell_type": "code",
      "execution_count": null,
      "metadata": {
        "id": "VtA257mt2CgX"
      },
      "outputs": [],
      "source": [
        "# Comparison Bar Chart\n",
        "fig, ax = plt.subplots(figsize=(8, 6))\n",
        "approaches = ['Main (No Aug)', 'Main (With Aug)', 'Alt (No Aug)', 'Alt (With Aug)']\n",
        "accuracies = [test_accuracy, test_accuracy_aug, test_accuracy_alt, test_accuracy_aug_alt]\n",
        "ax.bar(approaches, accuracies, color=['#1f77b4', '#ff7f0e', '#2ca02c', '#d62728'])\n",
        "ax.set_title('Test Accuracy Comparison: Main vs. Alternative')\n",
        "ax.set_ylabel('Test Accuracy')\n",
        "ax.set_ylim(0, 1)\n",
        "for i, v in enumerate(accuracies):\n",
        "    ax.text(i, v + 0.01, f'{v:.4f}', ha='center')\n",
        "plt.tight_layout()\n",
        "plt.savefig('test_accuracy_comparison.png')\n",
        "files.download('test_accuracy_comparison.png')\n",
        "# plt.close()"
      ]
    },
    {
      "cell_type": "code",
      "execution_count": null,
      "metadata": {
        "id": "5Yq6HiCe15DT"
      },
      "outputs": [],
      "source": [
        "comparison_results = {\n",
        "    'main_no_aug': test_accuracy,\n",
        "    'main_with_aug': test_accuracy_aug,\n",
        "    'alt_no_aug': test_accuracy_alt,\n",
        "    'alt_with_aug': test_accuracy_aug_alt\n",
        "}\n",
        "with open('comparison_results.json', 'w') as f:\n",
        "    json.dump(comparison_results, f)\n",
        "files.download('comparison_results.json')"
      ]
    },
    {
      "cell_type": "markdown",
      "metadata": {
        "id": "3ybvmW1wJUHC"
      },
      "source": [
        "## **12. Results Summary**\n",
        "- Best parameters: {'learning_rate': 0.001, 'l2_lambda': 0.001, 'batch_size': 32, 'optimizer': 'adam'}\n",
        "- Best validation accuracy: 82.93%\n",
        "- **Main Approach**:\n",
        "  - Test accuracy (No Augmentation): 91.64%\n",
        "  - Test accuracy (With Augmentation): 84.55%\n",
        "- **Alternative Approach**:\n",
        "  - Test accuracy (No Augmentation): 90.69%\n",
        "  - Test accuracy (With Augmentation): 83.95%\n",
        "- Figure: Test accuracy comparison (`test_accuracy_comparison.png`)"
      ]
    },
    {
      "cell_type": "code",
      "execution_count": null,
      "metadata": {
        "id": "YwLFSG1r4zOs"
      },
      "outputs": [],
      "source": [
        "# Generate Markdown:\n",
        "print(f\"\"\"## **12. Results Summary**\n",
        "- Best parameters: {best_params}\n",
        "- Best validation accuracy: {best_val_accuracy:.2%}\n",
        "- **Main Approach**:\n",
        "  - Test accuracy (No Augmentation): {test_accuracy:.2%}\n",
        "  - Test accuracy (With Augmentation): {test_accuracy_aug:.2%}\n",
        "- **Alternative Approach**:\n",
        "  - Test accuracy (No Augmentation): {test_accuracy_alt:.2%}\n",
        "  - Test accuracy (With Augmentation): {test_accuracy_aug_alt:.2%}\n",
        "- Figure: Test accuracy comparison (`test_accuracy_comparison.png`)\n",
        "\"\"\")\n"
      ]
    },
    {
      "cell_type": "code",
      "execution_count": null,
      "metadata": {
        "id": "1QDpgxDo4wkO"
      },
      "outputs": [],
      "source": [
        "# with open(\"results_summary.md\", \"w\") as f:\n",
        "#     f.write(\"## 12. Results Summary\\n\")\n",
        "#     f.write(f\"- Best parameters: {best_params}\\n\")\n",
        "#     f.write(f\"- Best validation accuracy: {best_val_accuracy:.2%}\\n\")\n",
        "#     f.write(\"- **Main Approach**:\\n\")\n",
        "#     f.write(f\"  - Test accuracy (No Augmentation): {test_accuracy:.2%}\\n\")\n",
        "#     f.write(f\"  - Test accuracy (With Augmentation): {test_accuracy_aug:.2%}\\n\")\n",
        "#     f.write(\"- **Alternative Approach**:\\n\")\n",
        "#     f.write(f\"  - Test accuracy (No Augmentation): {test_accuracy_alt:.2%}\\n\")\n",
        "#     f.write(f\"  - Test accuracy (With Augmentation): {test_accuracy_aug_alt:.2%}\\n\")\n",
        "#     f.write(\"- Figure: Test accuracy comparison (`test_accuracy_comparison.png`)\\n\")"
      ]
    },
    {
      "cell_type": "code",
      "execution_count": null,
      "metadata": {
        "id": "tOUSbEo-QrHy"
      },
      "outputs": [],
      "source": []
    }
  ],
  "metadata": {
    "colab": {
      "provenance": [],
      "gpuType": "V28"
    },
    "kernelspec": {
      "display_name": "Python 3",
      "name": "python3"
    },
    "language_info": {
      "codemirror_mode": {
        "name": "ipython",
        "version": 3
      },
      "file_extension": ".py",
      "mimetype": "text/x-python",
      "name": "python",
      "nbconvert_exporter": "python",
      "pygments_lexer": "ipython3",
      "version": "3.12.7"
    },
    "accelerator": "TPU"
  },
  "nbformat": 4,
  "nbformat_minor": 0
}